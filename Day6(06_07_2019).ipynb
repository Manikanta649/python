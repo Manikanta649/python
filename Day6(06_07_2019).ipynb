{
  "nbformat": 4,
  "nbformat_minor": 0,
  "metadata": {
    "colab": {
      "name": "Day6(06-07-2019).ipynb",
      "version": "0.3.2",
      "provenance": [],
      "include_colab_link": true
    },
    "kernelspec": {
      "name": "python3",
      "display_name": "Python 3"
    }
  },
  "cells": [
    {
      "cell_type": "markdown",
      "metadata": {
        "id": "view-in-github",
        "colab_type": "text"
      },
      "source": [
        "<a href=\"https://colab.research.google.com/github/Manikanta649/python/blob/master/Day6(06_07_2019).ipynb\" target=\"_parent\"><img src=\"https://colab.research.google.com/assets/colab-badge.svg\" alt=\"Open In Colab\"/></a>"
      ]
    },
    {
      "cell_type": "code",
      "metadata": {
        "id": "-VIgXHzofQfL",
        "colab_type": "code",
        "outputId": "c75877e5-c293-4e49-e682-e2e4ebe588ad",
        "colab": {
          "base_uri": "https://localhost:8080/",
          "height": 99
        }
      },
      "source": [
        "print(\"Gitam\")\n",
        "print(\"Gitam\")\n",
        "print(\"Gitam\")\n",
        "print(\"Gitam\")\n",
        "print(\"Gitam\")"
      ],
      "execution_count": 0,
      "outputs": [
        {
          "output_type": "stream",
          "text": [
            "Gitam\n",
            "Gitam\n",
            "Gitam\n",
            "Gitam\n",
            "Gitam\n"
          ],
          "name": "stdout"
        }
      ]
    },
    {
      "cell_type": "code",
      "metadata": {
        "id": "h4WvXLkPfeMZ",
        "colab_type": "code",
        "outputId": "71a84516-10c2-463c-dc91-d2be1fdb2f04",
        "colab": {
          "base_uri": "https://localhost:8080/",
          "height": 99
        }
      },
      "source": [
        "x = 0\n",
        "while x < 5 :\n",
        "    print(\"Gitam\")\n",
        "    x = x + 1"
      ],
      "execution_count": 0,
      "outputs": [
        {
          "output_type": "stream",
          "text": [
            "Gitam\n",
            "Gitam\n",
            "Gitam\n",
            "Gitam\n",
            "Gitam\n"
          ],
          "name": "stdout"
        }
      ]
    },
    {
      "cell_type": "code",
      "metadata": {
        "id": "GaCjVSH4gN3h",
        "colab_type": "code",
        "outputId": "3a273d7e-4609-4014-83c3-20afdd6901ed",
        "colab": {
          "base_uri": "https://localhost:8080/",
          "height": 49
        }
      },
      "source": [
        "n = int(input(\"Enter a Number\"))\n",
        "i = 1\n",
        "while i <= n : \n",
        "    print(i,end = \" \")\n",
        "    i = i + 1"
      ],
      "execution_count": 0,
      "outputs": [
        {
          "output_type": "stream",
          "text": [
            "Enter a Number10\n",
            "1 2 3 4 5 6 7 8 9 10 "
          ],
          "name": "stdout"
        }
      ]
    },
    {
      "cell_type": "code",
      "metadata": {
        "id": "forqn97Uid-C",
        "colab_type": "code",
        "outputId": "757c3c81-883f-4db1-d875-a8abf7d40225",
        "colab": {
          "base_uri": "https://localhost:8080/",
          "height": 49
        }
      },
      "source": [
        "n = int(input('Enter a Number '))\n",
        "i = 1\n",
        "sum = 0\n",
        "while i <= n:\n",
        "    if i % 2 == 0:\n",
        "        sum = sum + i\n",
        "    i = i + 1\n",
        "print(sum)    "
      ],
      "execution_count": 0,
      "outputs": [
        {
          "output_type": "stream",
          "text": [
            "Enter a Number 10\n",
            "30\n"
          ],
          "name": "stdout"
        }
      ]
    },
    {
      "cell_type": "code",
      "metadata": {
        "id": "Ixkulx8MnIBi",
        "colab_type": "code",
        "outputId": "fecc3eec-8428-4f3f-a3ee-78f18e936116",
        "colab": {
          "base_uri": "https://localhost:8080/",
          "height": 49
        }
      },
      "source": [
        "n = int(input('Enter a Number '))\n",
        "while n != 0:\n",
        "    r = n % 10\n",
        "    print(r,end = \" \")\n",
        "    n = n // 10"
      ],
      "execution_count": 0,
      "outputs": [
        {
          "output_type": "stream",
          "text": [
            "Enter a Number 123\n",
            "3 2 1 "
          ],
          "name": "stdout"
        }
      ]
    },
    {
      "cell_type": "code",
      "metadata": {
        "id": "D18EAu2t20e0",
        "colab_type": "code",
        "outputId": "7df8dabb-721c-4496-f0e0-3f13db41f0f9",
        "colab": {
          "base_uri": "https://localhost:8080/",
          "height": 33
        }
      },
      "source": [
        "def addEvenDigits(n):\n",
        "    sum = 0\n",
        "    while n != 0:\n",
        "        r = n % 10\n",
        "        if r % 2 == 0:\n",
        "            sum = sum + r\n",
        "        n = n // 10\n",
        "    print(sum)\n",
        "    return\n",
        "addEvenDigits(1234)  "
      ],
      "execution_count": 0,
      "outputs": [
        {
          "output_type": "stream",
          "text": [
            "6\n"
          ],
          "name": "stdout"
        }
      ]
    },
    {
      "cell_type": "code",
      "metadata": {
        "id": "mHCsiVw543Kk",
        "colab_type": "code",
        "outputId": "c021f438-27f8-401b-fd7e-a1d0a227df35",
        "colab": {
          "base_uri": "https://localhost:8080/",
          "height": 33
        }
      },
      "source": [
        "def printLarge(n) :\n",
        "    large = 0\n",
        "    while n != 0 :\n",
        "        r = n % 10\n",
        "        if large < r:\n",
        "            large = r\n",
        "        n = n // 10    \n",
        "    return large\n",
        "printLarge(19528)    "
      ],
      "execution_count": 0,
      "outputs": [
        {
          "output_type": "execute_result",
          "data": {
            "text/plain": [
              "9"
            ]
          },
          "metadata": {
            "tags": []
          },
          "execution_count": 18
        }
      ]
    },
    {
      "cell_type": "code",
      "metadata": {
        "id": "WnfRz6Uz8SaP",
        "colab_type": "code",
        "outputId": "c24ed45a-3a84-486c-eb19-fedef08ed3b5",
        "colab": {
          "base_uri": "https://localhost:8080/",
          "height": 49
        }
      },
      "source": [
        "def ispalindrome(n) :\n",
        "    rev = 0\n",
        "    buffer = n\n",
        "    while n != 0:\n",
        "        r = n % 10\n",
        "        rev = rev * 10 + r\n",
        "        n = n // 10\n",
        "    if buffer == rev:\n",
        "        return \"Yes\"\n",
        "    else:\n",
        "        return\"No\"\n",
        "print(ispalindrome(123))  \n",
        "print(ispalindrome(121))  "
      ],
      "execution_count": 0,
      "outputs": [
        {
          "output_type": "stream",
          "text": [
            "No\n",
            "Yes\n"
          ],
          "name": "stdout"
        }
      ]
    },
    {
      "cell_type": "code",
      "metadata": {
        "id": "bLzjuvzfDoWn",
        "colab_type": "code",
        "outputId": "70003aff-872d-471e-b1ef-046f4ace43b4",
        "colab": {
          "base_uri": "https://localhost:8080/",
          "height": 33
        }
      },
      "source": [
        "def printSeries(lb,ub):\n",
        "    for x in range(lb,ub+1):\n",
        "        print(x,end=\" \")\n",
        "    return\n",
        "printSeries(11,25)"
      ],
      "execution_count": 0,
      "outputs": [
        {
          "output_type": "stream",
          "text": [
            "11 12 13 14 15 16 17 18 19 20 21 22 23 24 25 "
          ],
          "name": "stdout"
        }
      ]
    },
    {
      "cell_type": "code",
      "metadata": {
        "id": "qVIuQMsdGLAw",
        "colab_type": "code",
        "outputId": "7c7bc787-d4ef-4428-9758-7a31a3619049",
        "colab": {
          "base_uri": "https://localhost:8080/",
          "height": 33
        }
      },
      "source": [
        "def alternateNumbers(lb,ub):\n",
        "    for x in range(lb,ub+1,4):\n",
        "        print(x,end=\" \")\n",
        "    return\n",
        "alternateNumbers(100,150)  \n",
        "  \n",
        "    "
      ],
      "execution_count": 0,
      "outputs": [
        {
          "output_type": "stream",
          "text": [
            "100 104 108 112 116 120 124 128 132 136 140 144 148 "
          ],
          "name": "stdout"
        }
      ]
    }
  ]
}