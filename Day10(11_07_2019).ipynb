{
  "nbformat": 4,
  "nbformat_minor": 0,
  "metadata": {
    "colab": {
      "name": "Day10(11-07-2019).ipynb",
      "version": "0.3.2",
      "provenance": [],
      "collapsed_sections": [],
      "include_colab_link": true
    },
    "kernelspec": {
      "name": "python3",
      "display_name": "Python 3"
    }
  },
  "cells": [
    {
      "cell_type": "markdown",
      "metadata": {
        "id": "view-in-github",
        "colab_type": "text"
      },
      "source": [
        "<a href=\"https://colab.research.google.com/github/Manikanta649/python/blob/master/Day10(11_07_2019).ipynb\" target=\"_parent\"><img src=\"https://colab.research.google.com/assets/colab-badge.svg\" alt=\"Open In Colab\"/></a>"
      ]
    },
    {
      "cell_type": "code",
      "metadata": {
        "id": "9MH5hkMuLRXc",
        "colab_type": "code",
        "outputId": "4b3c246d-1458-41dc-b3ba-219f482975ef",
        "colab": {
          "base_uri": "https://localhost:8080/",
          "height": 33
        }
      },
      "source": [
        "def createFile(filename):\n",
        "    f = open(filename,'w')\n",
        "    for i in range(10):\n",
        "        f.write('This is %d Line '% i)\n",
        "    print(\"File is created and data has written\")\n",
        "    return\n",
        "createFile('file1.txt')  "
      ],
      "execution_count": 0,
      "outputs": [
        {
          "output_type": "stream",
          "text": [
            "File is created and data has written\n"
          ],
          "name": "stdout"
        }
      ]
    },
    {
      "cell_type": "code",
      "metadata": {
        "id": "9wRnzoQAMx7L",
        "colab_type": "code",
        "outputId": "7007f87b-5985-45d7-f619-43f6100165ff",
        "colab": {
          "base_uri": "https://localhost:8080/",
          "height": 33
        }
      },
      "source": [
        "ls"
      ],
      "execution_count": 0,
      "outputs": [
        {
          "output_type": "stream",
          "text": [
            "file1.txt  \u001b[0m\u001b[01;34msample_data\u001b[0m/\n"
          ],
          "name": "stdout"
        }
      ]
    },
    {
      "cell_type": "code",
      "metadata": {
        "id": "O2bzso-_PomS",
        "colab_type": "code",
        "outputId": "d08ee8da-deae-431c-f44a-3ea76d2e9446",
        "colab": {
          "base_uri": "https://localhost:8080/",
          "height": 33
        }
      },
      "source": [
        "def createFile(filename):\n",
        "    f = open(filename,'w')\n",
        "    for i in range(10):\n",
        "        f.write('This is %d Line\\n '% i)\n",
        "    print(\"File is created and data has written\")\n",
        "    return\n",
        "createFile('file1.txt')  "
      ],
      "execution_count": 0,
      "outputs": [
        {
          "output_type": "stream",
          "text": [
            "File is created and data has written\n"
          ],
          "name": "stdout"
        }
      ]
    },
    {
      "cell_type": "code",
      "metadata": {
        "id": "urUNZ-sePtDB",
        "colab_type": "code",
        "outputId": "0462ea18-230d-44e9-c8c9-3777d535227b",
        "colab": {
          "base_uri": "https://localhost:8080/",
          "height": 33
        }
      },
      "source": [
        "ls"
      ],
      "execution_count": 0,
      "outputs": [
        {
          "output_type": "stream",
          "text": [
            "file1.txt  \u001b[0m\u001b[01;34msample_data\u001b[0m/\n"
          ],
          "name": "stdout"
        }
      ]
    },
    {
      "cell_type": "code",
      "metadata": {
        "id": "26t0paQZONsy",
        "colab_type": "code",
        "outputId": "4aea5cba-f531-4403-8a40-991f4994d644",
        "colab": {
          "base_uri": "https://localhost:8080/",
          "height": 201
        }
      },
      "source": [
        "cat file1.txt"
      ],
      "execution_count": 0,
      "outputs": [
        {
          "output_type": "stream",
          "text": [
            "This is 0 Line\n",
            " This is 1 Line\n",
            " This is 2 Line\n",
            " This is 3 Line\n",
            " This is 4 Line\n",
            " This is 5 Line\n",
            " This is 6 Line\n",
            " This is 7 Line\n",
            " This is 8 Line\n",
            " This is 9 Line\n",
            " "
          ],
          "name": "stdout"
        }
      ]
    },
    {
      "cell_type": "code",
      "metadata": {
        "id": "GXLCZGe2QNE0",
        "colab_type": "code",
        "outputId": "331efbad-fc9d-440d-9d44-25c626163fa2",
        "colab": {
          "base_uri": "https://localhost:8080/",
          "height": 33
        }
      },
      "source": [
        "def createFile(filename):\n",
        "    f = open(filename,'w')\n",
        "    f.write('Testing...\\n')\n",
        "    print(\"File is created and data has written\")\n",
        "    return\n",
        "createFile('file1.txt')  "
      ],
      "execution_count": 0,
      "outputs": [
        {
          "output_type": "stream",
          "text": [
            "File is created and data has written\n"
          ],
          "name": "stdout"
        }
      ]
    },
    {
      "cell_type": "code",
      "metadata": {
        "id": "H8lasNTkRyTM",
        "colab_type": "code",
        "outputId": "c0ee3aa6-3871-4384-dc51-3bd7fc01d939",
        "colab": {
          "base_uri": "https://localhost:8080/",
          "height": 33
        }
      },
      "source": [
        "ls"
      ],
      "execution_count": 0,
      "outputs": [
        {
          "output_type": "stream",
          "text": [
            "file1.txt  \u001b[0m\u001b[01;34msample_data\u001b[0m/\n"
          ],
          "name": "stdout"
        }
      ]
    },
    {
      "cell_type": "code",
      "metadata": {
        "id": "w3CWO5-wRzoY",
        "colab_type": "code",
        "outputId": "2e3e759d-d3e5-4a71-abcc-a303970f18a9",
        "colab": {
          "base_uri": "https://localhost:8080/",
          "height": 33
        }
      },
      "source": [
        "def appenData(filename):\n",
        "    f = open(filename,'a')\n",
        "    for i in range(10):\n",
        "        f.write(\"This is %d Line\\n\" % i)\n",
        "    print(\"File Craeted and successfully data written\")\n",
        "    return\n",
        "appenData('file2.txt')      "
      ],
      "execution_count": 0,
      "outputs": [
        {
          "output_type": "stream",
          "text": [
            "File Craeted and successfully data written\n"
          ],
          "name": "stdout"
        }
      ]
    },
    {
      "cell_type": "code",
      "metadata": {
        "id": "oP4U2T9DTaOC",
        "colab_type": "code",
        "outputId": "0e663cc1-b4be-4118-f94b-f8eb564ba9f6",
        "colab": {
          "base_uri": "https://localhost:8080/",
          "height": 33
        }
      },
      "source": [
        "def appenData(filename):\n",
        "    f = open(filename,'a')\n",
        "    f.write(\"New Line 1 \\n\")\n",
        "    f.write(\"New Line 2 \\n\")\n",
        "    print(\"File Craeted and successfully data written\")\n",
        "    return\n",
        "appenData('file2.txt')      "
      ],
      "execution_count": 25,
      "outputs": [
        {
          "output_type": "stream",
          "text": [
            "File Craeted and successfully data written\n"
          ],
          "name": "stdout"
        }
      ]
    },
    {
      "cell_type": "code",
      "metadata": {
        "id": "RZzdp8OkV3S9",
        "colab_type": "code",
        "colab": {
          "base_uri": "https://localhost:8080/",
          "height": 33
        },
        "outputId": "2cd2144a-27af-420c-85be-4c49ac08aec4"
      },
      "source": [
        "ls"
      ],
      "execution_count": 26,
      "outputs": [
        {
          "output_type": "stream",
          "text": [
            "file1.txt  file2.txt  \u001b[0m\u001b[01;34msample_data\u001b[0m/\n"
          ],
          "name": "stdout"
        }
      ]
    },
    {
      "cell_type": "code",
      "metadata": {
        "id": "RKBZvZwoUL8T",
        "colab_type": "code",
        "colab": {
          "base_uri": "https://localhost:8080/",
          "height": 772
        },
        "outputId": "41dcf3c1-8bfe-47f1-917f-cb2a6b54f00b"
      },
      "source": [
        "def readFileData(filename):\n",
        "    f = open(filename,'r')\n",
        "    if f.mode == 'r':\n",
        "        x = f.read()\n",
        "        print(x)\n",
        "    f.close()\n",
        "    return\n",
        "readFileData('file2.txt')"
      ],
      "execution_count": 27,
      "outputs": [
        {
          "output_type": "stream",
          "text": [
            "This is 0 Line\n",
            " This is 1 Line\n",
            " This is 2 Line\n",
            " This is 3 Line\n",
            " This is 4 Line\n",
            " This is 5 Line\n",
            " This is 6 Line\n",
            " This is 7 Line\n",
            " This is 8 Line\n",
            " This is 9 Line\n",
            " This is 0 Line\n",
            "This is 1 Line\n",
            "This is 2 Line\n",
            "This is 3 Line\n",
            "This is 4 Line\n",
            "This is 5 Line\n",
            "This is 6 Line\n",
            "This is 7 Line\n",
            "This is 8 Line\n",
            "This is 9 Line\n",
            "New Line 1 \n",
            "New Line 2 \n",
            "New Line 1 \n",
            "New Line 2 \n",
            "New Line 1 \n",
            "New Line 2 \n",
            "New Line 1 \n",
            "New Line 2 \n",
            "New Line 1 \n",
            "New Line 2 \n",
            "New Line 1 \n",
            "New Line 2 \n",
            "New Line 1 \n",
            "New Line 2 \n",
            "New Line 1 \n",
            "New Line 2 \n",
            "New Line 1 \n",
            "New Line 2 \n",
            "New Line 1 \n",
            "New Line 2 \n",
            "New Line 1 \n",
            "New Line 2 \n",
            "New Line 1 \n",
            "New Line 2 \n",
            "\n"
          ],
          "name": "stdout"
        }
      ]
    },
    {
      "cell_type": "code",
      "metadata": {
        "id": "lH0rYpfAV0BU",
        "colab_type": "code",
        "colab": {
          "base_uri": "https://localhost:8080/",
          "height": 67
        },
        "outputId": "5531f2fa-0d74-4eba-8f7a-7760e8ff74a4"
      },
      "source": [
        "def fileOperations(filename,mode):\n",
        "    with open(filename,mode) as f:\n",
        "        if f.mode == 'r':\n",
        "            data = f.read()\n",
        "            print(data)\n",
        "        elif f.mode == 'a':\n",
        "            f.write('Data to the file\\n')\n",
        "            print('The data successfully wriiten')\n",
        "    f.close()\n",
        "    return\n",
        "filename = input('Enter the file name')\n",
        "mode = input('Enter the mode of the file')\n",
        "fileOperations(filename,mode)"
      ],
      "execution_count": 33,
      "outputs": [
        {
          "output_type": "stream",
          "text": [
            "Enter the file namedata.txt\n",
            "Enter the mode of the filea\n",
            "The data successfully wriiten\n"
          ],
          "name": "stdout"
        }
      ]
    },
    {
      "cell_type": "code",
      "metadata": {
        "id": "Ty7O9eopYQrg",
        "colab_type": "code",
        "colab": {
          "base_uri": "https://localhost:8080/",
          "height": 67
        },
        "outputId": "7eea4370-d2d6-4758-a254-3e400dc51237"
      },
      "source": [
        "def wordCount(filename,word):\n",
        "    with open(filename,'r') as f:\n",
        "        if f.mode == 'r':\n",
        "            x = f.read()\n",
        "            li = x.split()\n",
        "    cnt = li.count(word)\n",
        "    return cnt\n",
        "filename = input('Enter the file name : ')\n",
        "word = input('Enter the word : ')\n",
        "wordCount(filename,word)"
      ],
      "execution_count": 35,
      "outputs": [
        {
          "output_type": "stream",
          "text": [
            "Enter the file name : file2.txt\n",
            "Enter the word : 7\n"
          ],
          "name": "stdout"
        },
        {
          "output_type": "execute_result",
          "data": {
            "text/plain": [
              "2"
            ]
          },
          "metadata": {
            "tags": []
          },
          "execution_count": 35
        }
      ]
    },
    {
      "cell_type": "code",
      "metadata": {
        "id": "sdQqxAKQh4-s",
        "colab_type": "code",
        "colab": {
          "base_uri": "https://localhost:8080/",
          "height": 50
        },
        "outputId": "fce43a6d-f9a5-4ac1-c338-14172a383d0b"
      },
      "source": [
        "def charCount(filename):\n",
        "    with open(filename,'r') as f:\n",
        "        if f.mode == 'r':\n",
        "            x = f.read()\n",
        "            li = list(x)\n",
        "    return len(li)\n",
        "filename = input('Enter the filename : ') \n",
        "charCount(filename)"
      ],
      "execution_count": 38,
      "outputs": [
        {
          "output_type": "stream",
          "text": [
            "Enter the filename : file2.txt\n"
          ],
          "name": "stdout"
        },
        {
          "output_type": "execute_result",
          "data": {
            "text/plain": [
              "598"
            ]
          },
          "metadata": {
            "tags": []
          },
          "execution_count": 38
        }
      ]
    },
    {
      "cell_type": "code",
      "metadata": {
        "id": "A_Z4zZd0pcYL",
        "colab_type": "code",
        "colab": {
          "base_uri": "https://localhost:8080/",
          "height": 33
        },
        "outputId": "e13ee9a4-ed32-4570-d031-5590b83e4c85"
      },
      "source": [
        "s1 = \"Pyhton Programming\"\n",
        "print(s1.split('a'))"
      ],
      "execution_count": 39,
      "outputs": [
        {
          "output_type": "stream",
          "text": [
            "['Pyhton Progr', 'mming']\n"
          ],
          "name": "stdout"
        }
      ]
    },
    {
      "cell_type": "code",
      "metadata": {
        "id": "sfBBAVkxrorG",
        "colab_type": "code",
        "colab": {
          "base_uri": "https://localhost:8080/",
          "height": 50
        },
        "outputId": "408da44b-8b24-4252-8eec-1d7a59d85c30"
      },
      "source": [
        "def countOfLines(filename):\n",
        "    with open(filename,'r') as f:\n",
        "        if f.mode == 'r':\n",
        "            x = f.read()\n",
        "            li = x.split(\"\\n\")\n",
        "    return len(li)\n",
        "filename = input('Enter the filename : ')\n",
        "countOfLines(filename)  "
      ],
      "execution_count": 40,
      "outputs": [
        {
          "output_type": "stream",
          "text": [
            "Enter the filename : file2.txt\n"
          ],
          "name": "stdout"
        },
        {
          "output_type": "execute_result",
          "data": {
            "text/plain": [
              "45"
            ]
          },
          "metadata": {
            "tags": []
          },
          "execution_count": 40
        }
      ]
    },
    {
      "cell_type": "code",
      "metadata": {
        "id": "HO86BrCKt8gl",
        "colab_type": "code",
        "colab": {
          "base_uri": "https://localhost:8080/",
          "height": 50
        },
        "outputId": "6b4d1428-e3f4-4965-85e1-86fcc5b388f9"
      },
      "source": [
        "def caseCount(filename):\n",
        "    cntUpper = 0\n",
        "    cntLower = 0\n",
        "    with open(filename,'r') as f:\n",
        "        if f.mode == 'r':\n",
        "          x = f.read()\n",
        "          li = list(x)\n",
        "    for i in li:\n",
        "        if i.isupper():\n",
        "            cntUpper += 1\n",
        "        elif i.islower():\n",
        "            cntLower += 1\n",
        "    output = 'Upper case = {0} , Lower case = {1}'.format(cntUpper,cntLower)\n",
        "    return output\n",
        "filename = input('Enter the filename : ')\n",
        "caseCount(filename)"
      ],
      "execution_count": 43,
      "outputs": [
        {
          "output_type": "stream",
          "text": [
            "Enter the filename : file2.txt\n"
          ],
          "name": "stdout"
        },
        {
          "output_type": "execute_result",
          "data": {
            "text/plain": [
              "'Upper case = 88 , Lower case = 280'"
            ]
          },
          "metadata": {
            "tags": []
          },
          "execution_count": 43
        }
      ]
    },
    {
      "cell_type": "code",
      "metadata": {
        "id": "2a3Uq3niwgXj",
        "colab_type": "code",
        "colab": {
          "base_uri": "https://localhost:8080/",
          "height": 33
        },
        "outputId": "824fbdfa-a5e9-466a-cc8c-d499fa999ddc"
      },
      "source": [
        "ls"
      ],
      "execution_count": 44,
      "outputs": [
        {
          "output_type": "stream",
          "text": [
            "data.txt  file1.txt  file2.txt  \u001b[0m\u001b[01;34msample_data\u001b[0m/\n"
          ],
          "name": "stdout"
        }
      ]
    },
    {
      "cell_type": "code",
      "metadata": {
        "id": "525m10Qj3ZWz",
        "colab_type": "code",
        "colab": {
          "base_uri": "https://localhost:8080/",
          "height": 50
        },
        "outputId": "1a20ba1b-26a0-432b-9f16-f3f3c96ca4bf"
      },
      "source": [
        "cd Desktop/PythonProg"
      ],
      "execution_count": 46,
      "outputs": [
        {
          "output_type": "stream",
          "text": [
            "[Errno 2] No such file or directory: 'Desktop/PythonProg'\n",
            "/content\n"
          ],
          "name": "stdout"
        }
      ]
    },
    {
      "cell_type": "code",
      "metadata": {
        "id": "-NUvhk_76MM9",
        "colab_type": "code",
        "colab": {
          "base_uri": "https://localhost:8080/",
          "height": 67
        },
        "outputId": "5bf965ff-78a2-4960-dee1-4510d6c4f03e"
      },
      "source": [
        "set1 = set()\n",
        "set1 = set(\"pythonforcoding\")\n",
        "print(\"\\nSet with the use of string: \")\n",
        "print(set1)"
      ],
      "execution_count": 49,
      "outputs": [
        {
          "output_type": "stream",
          "text": [
            "\n",
            "Set with the use of string: \n",
            "{'r', 'g', 'p', 'o', 'n', 'f', 'y', 'd', 't', 'i', 'c', 'h'}\n"
          ],
          "name": "stdout"
        }
      ]
    },
    {
      "cell_type": "code",
      "metadata": {
        "id": "ZiY5Zb5F7cWF",
        "colab_type": "code",
        "colab": {
          "base_uri": "https://localhost:8080/",
          "height": 33
        },
        "outputId": "ef787751-e828-495c-e555-61558ce7273e"
      },
      "source": [
        "pwd"
      ],
      "execution_count": 50,
      "outputs": [
        {
          "output_type": "execute_result",
          "data": {
            "text/plain": [
              "'/content'"
            ]
          },
          "metadata": {
            "tags": []
          },
          "execution_count": 50
        }
      ]
    },
    {
      "cell_type": "code",
      "metadata": {
        "id": "rExIvU_APRgN",
        "colab_type": "code",
        "colab": {}
      },
      "source": [
        ""
      ],
      "execution_count": 0,
      "outputs": []
    }
  ]
}