{
  "nbformat": 4,
  "nbformat_minor": 0,
  "metadata": {
    "colab": {
      "name": "python 1.ipynb",
      "version": "0.3.2",
      "provenance": [],
      "include_colab_link": true
    },
    "kernelspec": {
      "name": "python3",
      "display_name": "Python 3"
    }
  },
  "cells": [
    {
      "cell_type": "markdown",
      "metadata": {
        "id": "view-in-github",
        "colab_type": "text"
      },
      "source": [
        "<a href=\"https://colab.research.google.com/github/Manikanta649/python/blob/master/python_1.ipynb\" target=\"_parent\"><img src=\"https://colab.research.google.com/assets/colab-badge.svg\" alt=\"Open In Colab\"/></a>"
      ]
    },
    {
      "cell_type": "markdown",
      "metadata": {
        "id": "jOUspzSazHSM",
        "colab_type": "text"
      },
      "source": [
        "#  Markdown Basics\n",
        "## Markdown Basics\n",
        "### Markdown Basics\n",
        "#### Markdown Basics\n",
        "##### Markdown Basics\n",
        "\n",
        "\n",
        "* ***Point3*** (Bold and Italic)\n",
        "\n",
        "* Normal Text\n",
        " * Sublist 1\n",
        " * Sublist 2\n",
        " \n",
        "\n",
        "> 1. Point1\n",
        "> 2. Point2\n",
        "\n",
        "* ***Adding Links to Markdown***\n",
        "* Google site -- .[1].: http://www.google.com\n",
        "* msn site      -- .[2].: http://www.msn.com\n",
        "- .[.].option 1\n",
        "\n",
        "* Google Site -- [Google].[1]\n",
        "[1]: http://www.google.com"
      ]
    },
    {
      "cell_type": "code",
      "metadata": {
        "id": "w8s4xS1h3rd-",
        "colab_type": "code",
        "colab": {
          "base_uri": "https://localhost:8080/",
          "height": 33
        },
        "outputId": "69e5216a-c542-4907-de00-8259ca65ee54"
      },
      "source": [
        "print (\"hello world\")"
      ],
      "execution_count": 1,
      "outputs": [
        {
          "output_type": "stream",
          "text": [
            "hello world\n"
          ],
          "name": "stdout"
        }
      ]
    },
    {
      "cell_type": "code",
      "metadata": {
        "id": "fDrzA18j4AW0",
        "colab_type": "code",
        "colab": {
          "base_uri": "https://localhost:8080/",
          "height": 50
        },
        "outputId": "01e39b4e-3823-4217-f32b-db4add3567da"
      },
      "source": [
        "print (\"Hello, Gitam\")\n",
        "print (\"Hyderabad\")"
      ],
      "execution_count": 2,
      "outputs": [
        {
          "output_type": "stream",
          "text": [
            "Hello, Gitam\n",
            "Hyderabad\n"
          ],
          "name": "stdout"
        }
      ]
    },
    {
      "cell_type": "code",
      "metadata": {
        "id": "RdOe1M-Q4N5y",
        "colab_type": "code",
        "colab": {
          "base_uri": "https://localhost:8080/",
          "height": 33
        },
        "outputId": "884ed770-5543-435b-ce90-54458edc353d"
      },
      "source": [
        "print (\"Hello, Gitam\", \" ||| \",end = \" \")\n",
        "print (\"Hyderabad\",end=\" ||| \")\n",
        "print (\"Python Programming\")"
      ],
      "execution_count": 3,
      "outputs": [
        {
          "output_type": "stream",
          "text": [
            "Hello, Gitam  |||  Hyderabad ||| Python Programming\n"
          ],
          "name": "stdout"
        }
      ]
    },
    {
      "cell_type": "code",
      "metadata": {
        "id": "YdMPgwY55DK7",
        "colab_type": "code",
        "colab": {
          "base_uri": "https://localhost:8080/",
          "height": 67
        },
        "outputId": "55e1952d-b0f9-41e0-8f4e-8e6a8f71d2a7"
      },
      "source": [
        "n1 = 100 # single Variable Assignment\n",
        "a = b = c = 20 # Multi variable Assignment of the same value\n",
        "a1,b1,c1 = 111,222,333 # Multi variable Assignment with different value\n",
        "print(n1)\n",
        "print(a,b,c)\n",
        "print(a1,b1,c1)"
      ],
      "execution_count": 4,
      "outputs": [
        {
          "output_type": "stream",
          "text": [
            "100\n",
            "20 20 20\n",
            "111 222 333\n"
          ],
          "name": "stdout"
        }
      ]
    },
    {
      "cell_type": "code",
      "metadata": {
        "id": "u9TgcbT56rcq",
        "colab_type": "code",
        "colab": {
          "base_uri": "https://localhost:8080/",
          "height": 50
        },
        "outputId": "b741e87b-407b-4af3-b694-9dbea7c9d256"
      },
      "source": [
        "a = 100;\n",
        "s1 = \"python\"\n",
        "s2 = 'p'\n",
        "f1 = 10.2\n",
        "print(a,s1,s2,f1)\n",
        "print(type(a),type(s1),type(s2),type(f1))"
      ],
      "execution_count": 5,
      "outputs": [
        {
          "output_type": "stream",
          "text": [
            "100 python p 10.2\n",
            "<class 'int'> <class 'str'> <class 'str'> <class 'float'>\n"
          ],
          "name": "stdout"
        }
      ]
    },
    {
      "cell_type": "code",
      "metadata": {
        "id": "1WpK4dk68lwy",
        "colab_type": "code",
        "colab": {
          "base_uri": "https://localhost:8080/",
          "height": 67
        },
        "outputId": "ddb256c8-fc22-494a-927a-de92de4579c3"
      },
      "source": [
        "i = 100\n",
        "print(type(i))\n",
        "s1 = str(i)\n",
        "print(type(s1))\n",
        "f1 = float(i)\n",
        "print(type(f1))"
      ],
      "execution_count": 6,
      "outputs": [
        {
          "output_type": "stream",
          "text": [
            "<class 'int'>\n",
            "<class 'str'>\n",
            "<class 'float'>\n"
          ],
          "name": "stdout"
        }
      ]
    },
    {
      "cell_type": "code",
      "metadata": {
        "id": "8AsVHVglU007",
        "colab_type": "code",
        "colab": {
          "base_uri": "https://localhost:8080/",
          "height": 84
        },
        "outputId": "a575c483-ed9d-40e4-e462-00ca05960c3c"
      },
      "source": [
        "s1 = \"100\"\n",
        "print(type(s1))\n",
        "a = int(s1)\n",
        "print(type(a))\n",
        "f = 1.5\n",
        "a1 = int(f)\n",
        "print(type(a1))\n",
        "print(a1)"
      ],
      "execution_count": 7,
      "outputs": [
        {
          "output_type": "stream",
          "text": [
            "<class 'str'>\n",
            "<class 'int'>\n",
            "<class 'int'>\n",
            "1\n"
          ],
          "name": "stdout"
        }
      ]
    },
    {
      "cell_type": "code",
      "metadata": {
        "id": "ZkvRUMZkVohv",
        "colab_type": "code",
        "colab": {
          "base_uri": "https://localhost:8080/",
          "height": 33
        },
        "outputId": "726f9676-9ea1-4b32-9989-482a76283955"
      },
      "source": [
        "# A number is given 1234 -\n",
        "# Digit count\n",
        "a1 = 1234\n",
        "print(len(str(a1)))"
      ],
      "execution_count": 8,
      "outputs": [
        {
          "output_type": "stream",
          "text": [
            "4\n"
          ],
          "name": "stdout"
        }
      ]
    },
    {
      "cell_type": "markdown",
      "metadata": {
        "id": "ORoCE3KKW9rV",
        "colab_type": "text"
      },
      "source": [
        "# Reading a value\n",
        "* input(\"Message\") --string"
      ]
    },
    {
      "cell_type": "code",
      "metadata": {
        "id": "ZL5p5RriXABH",
        "colab_type": "code",
        "colab": {
          "base_uri": "https://localhost:8080/",
          "height": 67
        },
        "outputId": "43aa60ef-d776-4e79-b428-b0621bb4ac06"
      },
      "source": [
        "s1 = input(\"Enter your name\")\n",
        "print(s1)\n",
        "print(type(s1))"
      ],
      "execution_count": 10,
      "outputs": [
        {
          "output_type": "stream",
          "text": [
            "Enter your nameManikanta\n",
            "Manikanta\n",
            "<class 'str'>\n"
          ],
          "name": "stdout"
        }
      ]
    },
    {
      "cell_type": "code",
      "metadata": {
        "id": "j_d-aAjNYfhW",
        "colab_type": "code",
        "colab": {
          "base_uri": "https://localhost:8080/",
          "height": 50
        },
        "outputId": "5844613a-d96f-4c91-ce7e-c5f239255231"
      },
      "source": [
        "# Want a number as a input\n",
        "n1 = int(input(\"Enter a number\"))\n",
        "print(n1,type(n1))"
      ],
      "execution_count": 11,
      "outputs": [
        {
          "output_type": "stream",
          "text": [
            "Enter a number1234\n",
            "1234 <class 'int'>\n"
          ],
          "name": "stdout"
        }
      ]
    },
    {
      "cell_type": "markdown",
      "metadata": {
        "id": "q2fsR0rRZQdv",
        "colab_type": "text"
      },
      "source": [
        "## Operators\n",
        "* operator is a symbols is used to performe a specific kind of operations\n",
        "### Arithetic Operators\n",
        "* +\n",
        "* /\n",
        "* -\n",
        "* *\n",
        "* %\n",
        " \n",
        "  **\n",
        "* //"
      ]
    },
    {
      "cell_type": "code",
      "metadata": {
        "id": "4ovrc424Z0RW",
        "colab_type": "code",
        "colab": {
          "base_uri": "https://localhost:8080/",
          "height": 134
        },
        "outputId": "49778c5e-3920-4f18-c5a4-0766feef4444"
      },
      "source": [
        "n1 = 1234\n",
        "print(n1+10)\n",
        "print(n1-10)\n",
        "print(n1*10)\n",
        "print(n1/10)\n",
        "print(n1%10)\n",
        "print(n1//10)\n",
        "print(n1**10)"
      ],
      "execution_count": 12,
      "outputs": [
        {
          "output_type": "stream",
          "text": [
            "1244\n",
            "1224\n",
            "12340\n",
            "123.4\n",
            "4\n",
            "123\n",
            "8187505353567209228244052427776\n"
          ],
          "name": "stdout"
        }
      ]
    },
    {
      "cell_type": "code",
      "metadata": {
        "id": "YBSBfcOodlvL",
        "colab_type": "code",
        "colab": {
          "base_uri": "https://localhost:8080/",
          "height": 33
        },
        "outputId": "d05def37-464f-4487-ee0b-8b05e903d290"
      },
      "source": [
        "x = 1 + 2 ** 3 / 4 + 5\n",
        "print(x)"
      ],
      "execution_count": 17,
      "outputs": [
        {
          "output_type": "stream",
          "text": [
            "8.0\n"
          ],
          "name": "stdout"
        }
      ]
    },
    {
      "cell_type": "code",
      "metadata": {
        "id": "nW10M8_8d641",
        "colab_type": "code",
        "colab": {
          "base_uri": "https://localhost:8080/",
          "height": 33
        },
        "outputId": "be2144f5-0099-49e2-987f-e39fa2a94f43"
      },
      "source": [
        "x = 1 + 2 ** 3 / 4 * 5\n",
        "print(x)"
      ],
      "execution_count": 16,
      "outputs": [
        {
          "output_type": "stream",
          "text": [
            "11.0\n"
          ],
          "name": "stdout"
        }
      ]
    },
    {
      "cell_type": "markdown",
      "metadata": {
        "id": "hKyfa7Oeeghu",
        "colab_type": "text"
      },
      "source": [
        "### Relational Operators\n",
        "* ==\n",
        "* [ =\n",
        "* Greater(>)\n",
        "* Less than(<)\n",
        "* less than or equals to(<=)\n",
        "* Greater than or equals to(>=)\n"
      ]
    },
    {
      "cell_type": "code",
      "metadata": {
        "id": "MM2eGtSTeHPs",
        "colab_type": "code",
        "colab": {
          "base_uri": "https://localhost:8080/",
          "height": 33
        },
        "outputId": "894abc09-d17d-42b4-f782-6e40554bf8a9"
      },
      "source": [
        "x = 10\n",
        "a1 = x > 15\n",
        "print(a1)"
      ],
      "execution_count": 18,
      "outputs": [
        {
          "output_type": "stream",
          "text": [
            "False\n"
          ],
          "name": "stdout"
        }
      ]
    },
    {
      "cell_type": "code",
      "metadata": {
        "id": "1EDC14UOkKr0",
        "colab_type": "code",
        "colab": {
          "base_uri": "https://localhost:8080/",
          "height": 50
        },
        "outputId": "f0d85ee6-2667-4ed3-82d1-5d9ef30972b3"
      },
      "source": [
        "i = 100\n",
        "a1 = (i > 15) and (i < 800)\n",
        "a2 = (i > 15) and (i > 800)\n",
        "print(a1)\n",
        "print(a2)"
      ],
      "execution_count": 19,
      "outputs": [
        {
          "output_type": "stream",
          "text": [
            "True\n",
            "False\n"
          ],
          "name": "stdout"
        }
      ]
    },
    {
      "cell_type": "markdown",
      "metadata": {
        "id": "LK0OZzkZlB9B",
        "colab_type": "text"
      },
      "source": [
        "### Control flow statements\n",
        "* Conditional Statements\n",
        "* Looping Statements\n",
        "\n",
        "#### if  -else statement\n",
        "\n",
        "**Syntax**\n",
        "\n",
        "* if Boolean_Condition:\n",
        "* Statements\n",
        "* else :\n",
        "* statements"
      ]
    },
    {
      "cell_type": "code",
      "metadata": {
        "id": "605qCvkUnDDi",
        "colab_type": "code",
        "colab": {
          "base_uri": "https://localhost:8080/",
          "height": 50
        },
        "outputId": "798a05d8-6c00-4b27-b86f-b9c013a2c8c5"
      },
      "source": [
        "n = int(input(\"Enter a number\"))\n",
        "if n%2 == 0:\n",
        "    print(\"Even\")\n",
        "else:\n",
        "    print(\"Odd\")  "
      ],
      "execution_count": 25,
      "outputs": [
        {
          "output_type": "stream",
          "text": [
            "Enter a number13\n",
            "Odd\n"
          ],
          "name": "stdout"
        }
      ]
    },
    {
      "cell_type": "code",
      "metadata": {
        "id": "xXmV659Inutj",
        "colab_type": "code",
        "colab": {
          "base_uri": "https://localhost:8080/",
          "height": 50
        },
        "outputId": "849f5087-3a35-4d83-932e-14dd242207ff"
      },
      "source": [
        "n = int(input(\"Enter a number\"))\n",
        "if n%3 == 0 and n%5 == 0:\n",
        "    print(\"Yes\")\n",
        "else:\n",
        "    print(\"No\")  "
      ],
      "execution_count": 26,
      "outputs": [
        {
          "output_type": "stream",
          "text": [
            "Enter a number10\n",
            "No\n"
          ],
          "name": "stdout"
        }
      ]
    },
    {
      "cell_type": "code",
      "metadata": {
        "id": "09HCoWZhoVNq",
        "colab_type": "code",
        "colab": {
          "base_uri": "https://localhost:8080/",
          "height": 50
        },
        "outputId": "bd61c3b6-7f19-4217-8fea-8be3d108b0c8"
      },
      "source": [
        "n = int(input(\"Enter a number\"))\n",
        "if n == 0:\n",
        "    print(\"Zero\")\n",
        "elif n>0:\n",
        "    print(\"Positive Number\")\n",
        "elif n<0:\n",
        "    print(\"Negative Number\")\n",
        "    "
      ],
      "execution_count": 29,
      "outputs": [
        {
          "output_type": "stream",
          "text": [
            "Enter a number-5\n",
            "Negative Number\n"
          ],
          "name": "stdout"
        }
      ]
    },
    {
      "cell_type": "code",
      "metadata": {
        "id": "3b6Gx9fpzG1r",
        "colab_type": "code",
        "colab": {
          "base_uri": "https://localhost:8080/",
          "height": 50
        },
        "outputId": "ed91f01a-4fa6-443d-fb13-a5499d90839b"
      },
      "source": [
        "n = int(input(\"Enter the year\"))\n",
        "if n%4 == 0:\n",
        "    print(\"given year is a leap year\")\n",
        "else:\n",
        "    print(\"given year is not a leap year\")"
      ],
      "execution_count": 31,
      "outputs": [
        {
          "output_type": "stream",
          "text": [
            "Enter the year2002\n",
            "given year is not a leap year\n"
          ],
          "name": "stdout"
        }
      ]
    },
    {
      "cell_type": "code",
      "metadata": {
        "id": "Q5lLlHJ93PbU",
        "colab_type": "code",
        "colab": {
          "base_uri": "https://localhost:8080/",
          "height": 84
        },
        "outputId": "c1be61a7-83c4-41f1-8790-f54b3fc63dee"
      },
      "source": [
        "a = int(input(\"Enter triangle side\"))\n",
        "b = int(input(\"Enter triangle side\"))\n",
        "c = int(input(\"Enter triangle side\"))\n",
        "if a + b >= c and a + c >= b and b + c >= a:\n",
        "    print(\"triangle is valid\")\n",
        "else:\n",
        "    print(\"triangle is invalid\")"
      ],
      "execution_count": 35,
      "outputs": [
        {
          "output_type": "stream",
          "text": [
            "Enter triangle side4\n",
            "Enter triangle side5\n",
            "Enter triangle side4\n",
            "triangle is valid\n"
          ],
          "name": "stdout"
        }
      ]
    },
    {
      "cell_type": "code",
      "metadata": {
        "id": "SJ9aaAF25VW7",
        "colab_type": "code",
        "colab": {
          "base_uri": "https://localhost:8080/",
          "height": 50
        },
        "outputId": "f41de107-84e2-4fd1-d9d4-aabe3590e3d1"
      },
      "source": [
        "n = int(input(\"Enter celsius\"))\n",
        "f = (a - 32) / 180\n",
        "print(f)"
      ],
      "execution_count": 42,
      "outputs": [
        {
          "output_type": "stream",
          "text": [
            "Enter celsius3\n",
            "-0.15555555555555556\n"
          ],
          "name": "stdout"
        }
      ]
    },
    {
      "cell_type": "code",
      "metadata": {
        "id": "y4-XFjXR7z5H",
        "colab_type": "code",
        "colab": {
          "base_uri": "https://localhost:8080/",
          "height": 84
        },
        "outputId": "aaa483c9-4981-4996-9559-2102aff096c4"
      },
      "source": [
        "a = int(input(\"Enter the a value\"))\n",
        "b = int(input(\"Enter the b value\"))\n",
        "c = int(input(\"Enter the c value\"))\n",
        "if a > b and b > c:\n",
        "    print(\"a is largest\")\n",
        "elif b > a and b > c:\n",
        "    print(\"b is largest\")\n",
        "elif c > a and c > b:\n",
        "    print(\"c is largest\")"
      ],
      "execution_count": 45,
      "outputs": [
        {
          "output_type": "stream",
          "text": [
            "Enter the a value2\n",
            "Enter the b value3\n",
            "Enter the c value4\n",
            "c is largest\n"
          ],
          "name": "stdout"
        }
      ]
    },
    {
      "cell_type": "code",
      "metadata": {
        "id": "1gm2ARKo-tZz",
        "colab_type": "code",
        "colab": {
          "base_uri": "https://localhost:8080/",
          "height": 50
        },
        "outputId": "5fbbf424-303f-4646-c640-90de388a7c4a"
      },
      "source": [
        "a = int(input(\"Enter the a value\"))\n",
        "if a == 1:\n",
        "    print(\"Monday\")\n",
        "elif a == 2:\n",
        "    print(\"tuesday\")\n",
        "elif a == 3:\n",
        "    print(\"wednesday\")\n",
        "elif a == 4:\n",
        "    print(\"thursday\")\n",
        "elif a == 5:\n",
        "    print(\"friday\")\n",
        "elif a == 6:\n",
        "    print(\"saturday\")\n",
        "elif a == 7:\n",
        "    print(\"sunday\")\n",
        "elif a > 7:\n",
        "    print(\"invalid\")"
      ],
      "execution_count": 52,
      "outputs": [
        {
          "output_type": "stream",
          "text": [
            "Enter the a value4\n",
            "thursday\n"
          ],
          "name": "stdout"
        }
      ]
    },
    {
      "cell_type": "code",
      "metadata": {
        "id": "92H6JAzyK_RO",
        "colab_type": "code",
        "colab": {}
      },
      "source": [
        "a = int(input(\"Enter the a value\"))\n",
        "b = int(input(\"Enter the b value\"))\n",
        "c = int(input(\"Enter the c value\"))\n",
        "d = (b * b) - (4 * a * c)\n",
        "if a == 0:\n",
        "    print(\"invalid\")\n",
        "elif d == 0:\n",
        "    print(\"roots are equal, root is\", (- b / 2 * a))\n",
        "elif d > 0:\n",
        "    print(\"roots are real and not equal, root is\", (- b + sqrt(d))(2 * a), (- b - sqrt(d)(2*a))) \n",
        "elif d < 0:\n",
        "    print(\"roots are distant, root is\", (- b(2 * a)), \"+i\", (sqrt(- d) / (2 * a)), ((-b)(2 * a)), \"-i\", (sqrt(-d)(2 * a)))     "
      ],
      "execution_count": 0,
      "outputs": []
    },
    {
      "cell_type": "code",
      "metadata": {
        "id": "kLtx8e-mbFrc",
        "colab_type": "code",
        "colab": {}
      },
      "source": [
        "`"
      ],
      "execution_count": 0,
      "outputs": []
    }
  ]
}