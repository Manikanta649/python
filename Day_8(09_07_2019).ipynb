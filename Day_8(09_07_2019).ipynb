{
  "nbformat": 4,
  "nbformat_minor": 0,
  "metadata": {
    "colab": {
      "name": "Day 8(09-07-2019).ipynb",
      "version": "0.3.2",
      "provenance": [],
      "collapsed_sections": [],
      "include_colab_link": true
    },
    "kernelspec": {
      "name": "python3",
      "display_name": "Python 3"
    }
  },
  "cells": [
    {
      "cell_type": "markdown",
      "metadata": {
        "id": "view-in-github",
        "colab_type": "text"
      },
      "source": [
        "<a href=\"https://colab.research.google.com/github/Manikanta649/python/blob/master/Day_8(09_07_2019).ipynb\" target=\"_parent\"><img src=\"https://colab.research.google.com/assets/colab-badge.svg\" alt=\"Open In Colab\"/></a>"
      ]
    },
    {
      "cell_type": "code",
      "metadata": {
        "id": "yV-JtaHS3SuF",
        "colab_type": "code",
        "outputId": "7d791127-00a8-40c5-fb2b-9e9e8610eea3",
        "colab": {
          "base_uri": "https://localhost:8080/",
          "height": 134
        }
      },
      "source": [
        "lst = [1,8,16,9,2]\n",
        "print(lst)\n",
        "print(lst[0])\n",
        "print(lst[1])\n",
        "print(lst[-1])\n",
        "print(lst[-2])\n",
        "print(lst[1:])\n",
        "print(lst[1:4])"
      ],
      "execution_count": 0,
      "outputs": [
        {
          "output_type": "stream",
          "text": [
            "[1, 8, 16, 9, 2]\n",
            "1\n",
            "8\n",
            "2\n",
            "9\n",
            "[8, 16, 9, 2]\n",
            "[8, 16, 9]\n"
          ],
          "name": "stdout"
        }
      ]
    },
    {
      "cell_type": "code",
      "metadata": {
        "id": "u6509FN44OaJ",
        "colab_type": "code",
        "outputId": "f274f59c-8abe-420d-d26d-ba73c7d48e21",
        "colab": {
          "base_uri": "https://localhost:8080/",
          "height": 50
        }
      },
      "source": [
        "li = [\"Gitam\",\"Python\",1989,2002]\n",
        "print(li)\n",
        "li[2] = 2019\n",
        "print(li)"
      ],
      "execution_count": 0,
      "outputs": [
        {
          "output_type": "stream",
          "text": [
            "['Gitam', 'Python', 1989, 2002]\n",
            "['Gitam', 'Python', 2019, 2002]\n"
          ],
          "name": "stdout"
        }
      ]
    },
    {
      "cell_type": "code",
      "metadata": {
        "id": "rb3Ora-O8vgt",
        "colab_type": "code",
        "outputId": "27c11cb4-2e3a-4a74-e0a9-1151d18dc1fd",
        "colab": {
          "base_uri": "https://localhost:8080/",
          "height": 50
        }
      },
      "source": [
        "print(li)\n",
        "del li[2]\n",
        "print(li)"
      ],
      "execution_count": 0,
      "outputs": [
        {
          "output_type": "stream",
          "text": [
            "['Gitam', 'Python', 2019, 2002]\n",
            "['Gitam', 'Python', 2002]\n"
          ],
          "name": "stdout"
        }
      ]
    },
    {
      "cell_type": "code",
      "metadata": {
        "id": "SHyoOeQ3882O",
        "colab_type": "code",
        "outputId": "c7301233-8d29-491d-a70c-608407d77512",
        "colab": {
          "base_uri": "https://localhost:8080/",
          "height": 100
        }
      },
      "source": [
        "lst1 = [1,9,6,18,2]\n",
        "print(len(lst1))\n",
        "print(lst1 * 2)\n",
        "print(len(lst1))\n",
        "print(9 in lst1)\n",
        "print(15 in lst1)"
      ],
      "execution_count": 0,
      "outputs": [
        {
          "output_type": "stream",
          "text": [
            "5\n",
            "[1, 9, 6, 18, 2, 1, 9, 6, 18, 2]\n",
            "5\n",
            "True\n",
            "False\n"
          ],
          "name": "stdout"
        }
      ]
    },
    {
      "cell_type": "code",
      "metadata": {
        "id": "tB6dOjEvA20B",
        "colab_type": "code",
        "outputId": "c5f90fbb-07c8-414d-899b-ce332807e7eb",
        "colab": {
          "base_uri": "https://localhost:8080/",
          "height": 100
        }
      },
      "source": [
        "# functions of the list\n",
        "lst1\n",
        "print(min(lst1)) # min element of list\n",
        "print(max(lst1)) # max element of list\n",
        "print(sum(lst1)) # sum of elements of list\n",
        "print(sum(lst1)//len(lst1)) # average of list of elements\n",
        "print(sum(lst1[1::2])/len(lst1[1::2])) # average of all alternate elements"
      ],
      "execution_count": 0,
      "outputs": [
        {
          "output_type": "stream",
          "text": [
            "1\n",
            "18\n",
            "36\n",
            "7\n",
            "13.5\n"
          ],
          "name": "stdout"
        }
      ]
    },
    {
      "cell_type": "code",
      "metadata": {
        "id": "6SVyIpDKBXVJ",
        "colab_type": "code",
        "outputId": "cd9ce31a-5c32-419d-fec1-691be8d2dd18",
        "colab": {
          "base_uri": "https://localhost:8080/",
          "height": 33
        }
      },
      "source": [
        "lst1\n",
        "lst1.append(24)\n",
        "lst1\n",
        "lst1.insert(2,56)\n",
        "lst1\n",
        "lst1.count(18)\n",
        "lst1.index(56)\n",
        "lst1.sort()\n",
        "lst1\n",
        "lst1.pop()\n",
        "lst1\n",
        "lst1.pop(1)\n",
        "lst2 = [123,23,45]\n",
        "lst1.extend(lst2)\n",
        "lst1.reverse()\n",
        "lst1.remove(123)\n",
        "lst1"
      ],
      "execution_count": 0,
      "outputs": [
        {
          "output_type": "execute_result",
          "data": {
            "text/plain": [
              "[45, 23, 56, 56, 56, 45, 45, 24, 24, 24, 24, 23, 23, 18, 1]"
            ]
          },
          "metadata": {
            "tags": []
          },
          "execution_count": 21
        }
      ]
    },
    {
      "cell_type": "code",
      "metadata": {
        "id": "aZDI5JK5Ep8U",
        "colab_type": "code",
        "outputId": "08cb7d0a-1045-4166-ed7e-5c1c022b0fe5",
        "colab": {
          "base_uri": "https://localhost:8080/",
          "height": 33
        }
      },
      "source": [
        "li = [1,9,8,2,6,3]\n",
        "print(li[-1:2:-2])"
      ],
      "execution_count": 0,
      "outputs": [
        {
          "output_type": "stream",
          "text": [
            "[3, 2]\n"
          ],
          "name": "stdout"
        }
      ]
    },
    {
      "cell_type": "code",
      "metadata": {
        "id": "-4jlL4iAHnBC",
        "colab_type": "code",
        "outputId": "fd79888c-ddde-4849-febf-29379dfbc191",
        "colab": {
          "base_uri": "https://localhost:8080/",
          "height": 33
        }
      },
      "source": [
        "li = [1,9,8,2,6,3176,77,'hh','khy8',8077.6897]\n",
        "print(li[-1::-3])"
      ],
      "execution_count": 0,
      "outputs": [
        {
          "output_type": "stream",
          "text": [
            "[8077.6897, 77, 2, 1]\n"
          ],
          "name": "stdout"
        }
      ]
    },
    {
      "cell_type": "code",
      "metadata": {
        "id": "Yik7uyEqJDKt",
        "colab_type": "code",
        "outputId": "28f37b78-e0d0-435d-ac25-aae2a7dba146",
        "colab": {
          "base_uri": "https://localhost:8080/",
          "height": 33
        }
      },
      "source": [
        "def secondLarge(li):\n",
        "    li.sort()\n",
        "    return li[-2]\n",
        "li = [1,19,6,2,8,18,3]\n",
        "secondLarge(li)"
      ],
      "execution_count": 0,
      "outputs": [
        {
          "output_type": "execute_result",
          "data": {
            "text/plain": [
              "18"
            ]
          },
          "metadata": {
            "tags": []
          },
          "execution_count": 25
        }
      ]
    },
    {
      "cell_type": "code",
      "metadata": {
        "id": "G7LoL_SIJjMm",
        "colab_type": "code",
        "outputId": "66d94ebc-8327-4d1d-caa3-af1e9d23555f",
        "colab": {
          "base_uri": "https://localhost:8080/",
          "height": 33
        }
      },
      "source": [
        "def secondLarge(li):\n",
        "    li.sort()\n",
        "    return li[-2]\n",
        "def genericLarge(li,n):\n",
        "    li.sort()\n",
        "    return li[-n]\n",
        "li = [1,19,6,2,8,18,3]\n",
        "genericLarge(li,4)"
      ],
      "execution_count": 0,
      "outputs": [
        {
          "output_type": "execute_result",
          "data": {
            "text/plain": [
              "6"
            ]
          },
          "metadata": {
            "tags": []
          },
          "execution_count": 27
        }
      ]
    },
    {
      "cell_type": "code",
      "metadata": {
        "id": "HbDP0W4cMPDo",
        "colab_type": "code",
        "outputId": "9423495f-c921-4fdf-fd76-060cbaa23103",
        "colab": {
          "base_uri": "https://localhost:8080/",
          "height": 33
        }
      },
      "source": [
        "def linearSearch1(li,tarItem):\n",
        "    for x in range(len(li)):\n",
        "        if li[x] == tarItem:\n",
        "            return x\n",
        "    return -1\n",
        "li = [1,19,6,2,8,18,3]\n",
        "linearSearch1(li,225)"
      ],
      "execution_count": 0,
      "outputs": [
        {
          "output_type": "execute_result",
          "data": {
            "text/plain": [
              "-1"
            ]
          },
          "metadata": {
            "tags": []
          },
          "execution_count": 31
        }
      ]
    },
    {
      "cell_type": "code",
      "metadata": {
        "id": "-qUuTdHfZkBL",
        "colab_type": "code",
        "outputId": "2dde5c2d-4dd5-41f0-bfba-13b58e38c562",
        "colab": {
          "base_uri": "https://localhost:8080/",
          "height": 33
        }
      },
      "source": [
        "def linearSearch2(li,tarItem):\n",
        "    for x in range(len(li)):\n",
        "        if li[x] == tarItem:\n",
        "            print(x,end=\" \")\n",
        "    return\n",
        "li = [1,5,9,6,5,15,1,2,5]\n",
        "linearSearch2(li,5)"
      ],
      "execution_count": 0,
      "outputs": [
        {
          "output_type": "stream",
          "text": [
            "1 4 8 "
          ],
          "name": "stdout"
        }
      ]
    },
    {
      "cell_type": "code",
      "metadata": {
        "id": "hMu4UEKvbMgW",
        "colab_type": "code",
        "outputId": "95869aec-bf63-45bc-fac0-900f9945f66c",
        "colab": {
          "base_uri": "https://localhost:8080/",
          "height": 33
        }
      },
      "source": [
        "def linearSearch3(li,tarItem):\n",
        "    for x in range(len(li)):\n",
        "        if li[x] == tarItem:\n",
        "            j = 0\n",
        "            while j != x+1:\n",
        "                print(\"!\",end=\"\")\n",
        "                j = j + 1\n",
        "            print(end=\" \")\n",
        "    return \n",
        "li = [1,5,9,6,5,15,1,2,5]\n",
        "linearSearch3(li,5)"
      ],
      "execution_count": 0,
      "outputs": [
        {
          "output_type": "stream",
          "text": [
            "!! !!!!! !!!!!!!!! "
          ],
          "name": "stdout"
        }
      ]
    },
    {
      "cell_type": "code",
      "metadata": {
        "id": "W-LdmrRLi4aJ",
        "colab_type": "code",
        "outputId": "6e8b7003-67c5-4462-884a-2fffe8feb161",
        "colab": {
          "base_uri": "https://localhost:8080/",
          "height": 33
        }
      },
      "source": [
        "def linearSearch4(li,tarItem):\n",
        "    sum = 0\n",
        "    for x in range(len(li)):\n",
        "        if li[x] % 3 == 0 and li[x] % 5 == 0:\n",
        "            sum += li[x]\n",
        "    return sum\n",
        "li = [12,3,45,9,18,15,23,34,56]\n",
        "linearSearch4(li,5)"
      ],
      "execution_count": 0,
      "outputs": [
        {
          "output_type": "execute_result",
          "data": {
            "text/plain": [
              "60"
            ]
          },
          "metadata": {
            "tags": []
          },
          "execution_count": 45
        }
      ]
    },
    {
      "cell_type": "code",
      "metadata": {
        "id": "yZCekw6tkV25",
        "colab_type": "code",
        "colab": {
          "base_uri": "https://localhost:8080/",
          "height": 33
        },
        "outputId": "d2e2d767-9ecf-4f40-f999-15ff73289fd0"
      },
      "source": [
        "def linearSearch5(li):\n",
        "    for x in range(len(li)):\n",
        "        if x == 0 or x == len(li) - 1:\n",
        "            print(li[x],end=\" \")\n",
        "        else:\n",
        "            print(li[x - 1]*li[x + 1],end=\" \")\n",
        "    return\n",
        "li = [1,2,3,4,5]\n",
        "linearSearch5(li)"
      ],
      "execution_count": 46,
      "outputs": [
        {
          "output_type": "stream",
          "text": [
            "1 3 8 15 5 "
          ],
          "name": "stdout"
        }
      ]
    },
    {
      "cell_type": "code",
      "metadata": {
        "id": "uwXe0wu-69nn",
        "colab_type": "code",
        "colab": {
          "base_uri": "https://localhost:8080/",
          "height": 33
        },
        "outputId": "4bcdfc23-4b0d-4ec3-f7ff-f4812f183aa3"
      },
      "source": [
        "def linearSearch6(li):\n",
        "   \n",
        "    for x in range(len(li)):\n",
        "        if x == 0 or x == len(li) - 1:\n",
        "            print(li[x],end=\" \")\n",
        "        elif li[x-1] % 2 == 0 and li[x+1] %2 == 0:\n",
        "            print(li[x],end=\" \")\n",
        "    return\n",
        "li = [1,6,9,4,16,19,22]\n",
        "linearSearch6(li)"
      ],
      "execution_count": 48,
      "outputs": [
        {
          "output_type": "stream",
          "text": [
            "1 9 19 22 "
          ],
          "name": "stdout"
        }
      ]
    },
    {
      "cell_type": "code",
      "metadata": {
        "id": "EtYLPRbv-YVl",
        "colab_type": "code",
        "colab": {
          "base_uri": "https://localhost:8080/",
          "height": 33
        },
        "outputId": "c9c8a343-224d-4fab-a807-38e5bad69b25"
      },
      "source": [
        "def numberListconversion(n):\n",
        "    li = []\n",
        "    while n != 0:\n",
        "        r = n % 10\n",
        "        li.append(r)\n",
        "        n = n // 10\n",
        "    li.reverse()\n",
        "    return li\n",
        "numberListconversion (14569) "
      ],
      "execution_count": 50,
      "outputs": [
        {
          "output_type": "execute_result",
          "data": {
            "text/plain": [
              "[1, 4, 5, 6, 9]"
            ]
          },
          "metadata": {
            "tags": []
          },
          "execution_count": 50
        }
      ]
    },
    {
      "cell_type": "code",
      "metadata": {
        "id": "S6wdhvkbBmwc",
        "colab_type": "code",
        "colab": {
          "base_uri": "https://localhost:8080/",
          "height": 33
        },
        "outputId": "cf9933d7-8ba9-4c5e-d42c-f208916b388b"
      },
      "source": [
        "def countCharOccurances(s,c):\n",
        "    cnt = 0\n",
        "    for ch in s:\n",
        "        if ch == c:\n",
        "            cnt += 1\n",
        "    return cnt\n",
        "countCharOccurances(\"Python Programming\",'m')  "
      ],
      "execution_count": 51,
      "outputs": [
        {
          "output_type": "execute_result",
          "data": {
            "text/plain": [
              "2"
            ]
          },
          "metadata": {
            "tags": []
          },
          "execution_count": 51
        }
      ]
    }
  ]
}