{
  "nbformat": 4,
  "nbformat_minor": 0,
  "metadata": {
    "colab": {
      "name": "8-7-19.ipynb",
      "version": "0.3.2",
      "provenance": [],
      "include_colab_link": true
    },
    "language_info": {
      "codemirror_mode": {
        "name": "ipython",
        "version": 3
      },
      "file_extension": ".py",
      "mimetype": "text/x-python",
      "name": "python",
      "nbconvert_exporter": "python",
      "pygments_lexer": "ipython3",
      "version": "3.7.3"
    },
    "kernelspec": {
      "display_name": "Python 3",
      "language": "python",
      "name": "python3"
    }
  },
  "cells": [
    {
      "cell_type": "markdown",
      "metadata": {
        "id": "view-in-github",
        "colab_type": "text"
      },
      "source": [
        "<a href=\"https://colab.research.google.com/github/Manikanta649/python/blob/master/8_7_19.ipynb\" target=\"_parent\"><img src=\"https://colab.research.google.com/assets/colab-badge.svg\" alt=\"Open In Colab\"/></a>"
      ]
    },
    {
      "cell_type": "markdown",
      "metadata": {
        "id": "t9Cdlwcu9rri",
        "colab_type": "text"
      },
      "source": [
        "![alt text](https://<img src=\"factors.png\">)"
      ]
    },
    {
      "cell_type": "code",
      "metadata": {
        "id": "Q71-Yoel9rrm",
        "colab_type": "code",
        "colab": {},
        "outputId": "c7d52fed-a8c0-4637-90b2-e85a7bfe7b4d"
      },
      "source": [
        "def factor(n):\n",
        "    c=0\n",
        "    for i in range(1,n+1):\n",
        "        if n%i==0:\n",
        "            c=c+1\n",
        "            print(i,end=\" \")\n",
        "    print(\"\")\n",
        "    print(\"total no of factors are\",c)\n",
        "\n",
        "n=int(input())\n",
        "factor(n)\n",
        "        "
      ],
      "execution_count": 0,
      "outputs": [
        {
          "output_type": "stream",
          "text": [
            "45\n",
            "1 3 5 9 15 45 \n",
            "total no of factors are 6\n"
          ],
          "name": "stdout"
        }
      ]
    },
    {
      "cell_type": "code",
      "metadata": {
        "id": "OcUzUFLq9rrx",
        "colab_type": "code",
        "colab": {}
      },
      "source": [
        "import sympy\n",
        "n=int(input(\"enter a number :\"))\n",
        "if sympy.isprime(n)==True:\n",
        "    print(\"prime\")\n",
        "else:\n",
        "    print(\"not a prime\")"
      ],
      "execution_count": 0,
      "outputs": []
    },
    {
      "cell_type": "markdown",
      "metadata": {
        "id": "I7H_cVZh9rr3",
        "colab_type": "text"
      },
      "source": [
        "![alt text](https://<img src=\"prime 1.png\">)\n",
        "![alt text](https://<img src=\"prime 2.png\">))"
      ]
    },
    {
      "cell_type": "code",
      "metadata": {
        "id": "VlXixe319rr4",
        "colab_type": "code",
        "colab": {}
      },
      "source": [
        "def isprime(n):\n",
        "    c=True\n",
        "    for i in range(2,n//2+1):\n",
        "        if n%i==0:\n",
        "            c=False\n",
        "    print(c)\n",
        "    \n",
        "isprime(7)"
      ],
      "execution_count": 0,
      "outputs": []
    },
    {
      "cell_type": "code",
      "metadata": {
        "id": "mBYdQiDD9rr9",
        "colab_type": "code",
        "colab": {}
      },
      "source": [
        "import sympy\n",
        "def NFP():\n",
        "    n=int(input(\"enter a number :\"))\n",
        "    c=0\n",
        "    for i in range(1,n+1):\n",
        "        if(sympy.isprime(i)==True):\n",
        "            print(i,end=\" \")\n",
        "            c=c+1\n",
        "    print(\" \")\n",
        "    print(\"no of prime numbers=\",c)\n",
        "    \n",
        "NFP()"
      ],
      "execution_count": 0,
      "outputs": []
    },
    {
      "cell_type": "code",
      "metadata": {
        "id": "QJ_Enhsa9rsC",
        "colab_type": "code",
        "colab": {},
        "outputId": "996d4d25-6d1c-4426-ff65-5bd62706c3bc"
      },
      "source": [
        "def num(n):\n",
        "    s=0\n",
        "    p=n\n",
        "    while n!=0:\n",
        "        s=s+fac(n%10)\n",
        "        n=n//10\n",
        "    if(p==s):\n",
        "        print(\"True\")\n",
        "    else:\n",
        "        print(\"False\")\n",
        "def fac(c):\n",
        "    r=1\n",
        "    for i in range(1,c+1):\n",
        "        r=r*i\n",
        "    return r\n",
        "\n",
        "num(int(input(\"enter num\")))\n",
        "        \n",
        "        "
      ],
      "execution_count": 0,
      "outputs": [
        {
          "output_type": "stream",
          "text": [
            "enter num121\n",
            "False\n"
          ],
          "name": "stdout"
        }
      ]
    },
    {
      "cell_type": "markdown",
      "metadata": {
        "id": "GcClGm2z9rsH",
        "colab_type": "text"
      },
      "source": [
        "![alt text](https://<img src=\"np 1.png\">)\n",
        "![alt text](https://<img src=\"np 2.png\">)\n",
        "![alt text](https://<img src=\"np 3.png\">)"
      ]
    },
    {
      "cell_type": "code",
      "metadata": {
        "id": "fFPRpaZU9rsI",
        "colab_type": "code",
        "colab": {},
        "outputId": "1c436ba8-9faa-4ddd-ba36-4615e35e41cb"
      },
      "source": [
        "def checkpali(x):\n",
        "    y=x\n",
        "    r=0\n",
        "    i=0\n",
        "    while x!=0:\n",
        "        r=r*(10**i)+(x%10)\n",
        "        x=x//10\n",
        "        i+=1\n",
        "    if r==y:\n",
        "        print(r,end=\" \")\n",
        "        return True\n",
        "    else:\n",
        "        return False\n",
        "def enum(a,b):\n",
        "    c=0\n",
        "    for j in range(a,b+1):\n",
        "        \n",
        "        if checkpali(j)==True:\n",
        "            c+=1\n",
        "    print(\" \")\n",
        "    print(c)\n",
        "        \n",
        "enum(10,100)      "
      ],
      "execution_count": 0,
      "outputs": [
        {
          "output_type": "stream",
          "text": [
            "11 22 33 44 55 66 77 88 99  \n",
            "9\n"
          ],
          "name": "stdout"
        }
      ]
    },
    {
      "cell_type": "code",
      "metadata": {
        "id": "WYB6bVj49rsM",
        "colab_type": "code",
        "colab": {},
        "outputId": "c8700215-ab96-4a55-9afc-b6a362147e91"
      },
      "source": [
        "s1=\"python\"\n",
        "print(len(s1))"
      ],
      "execution_count": 0,
      "outputs": [
        {
          "output_type": "stream",
          "text": [
            "6\n"
          ],
          "name": "stdout"
        }
      ]
    },
    {
      "cell_type": "code",
      "metadata": {
        "id": "2reNCpUR9rsR",
        "colab_type": "code",
        "colab": {},
        "outputId": "91555b78-9afd-4406-e5d0-f768357c5095"
      },
      "source": [
        "a,b,c=range(1,12,4)\n",
        "print(a)\n",
        "print(b)\n",
        "print(c)"
      ],
      "execution_count": 0,
      "outputs": [
        {
          "output_type": "stream",
          "text": [
            "1\n",
            "5\n",
            "9\n"
          ],
          "name": "stdout"
        }
      ]
    },
    {
      "cell_type": "code",
      "metadata": {
        "id": "TtuUB6e39rsW",
        "colab_type": "code",
        "colab": {},
        "outputId": "1e344d2d-5bda-4393-c89d-ab1e68622eec"
      },
      "source": [
        "for i in range(1,10,2):\n",
        "    print(i)"
      ],
      "execution_count": 0,
      "outputs": [
        {
          "output_type": "stream",
          "text": [
            "1\n",
            "3\n",
            "5\n",
            "7\n",
            "9\n"
          ],
          "name": "stdout"
        }
      ]
    },
    {
      "cell_type": "code",
      "metadata": {
        "id": "W7hZfn4z9rsc",
        "colab_type": "code",
        "colab": {},
        "outputId": "bbba7dbb-a57c-4ab9-a122-8059502f81eb"
      },
      "source": [
        "s1=\"python\"\n",
        "print(s1[-2::-2])"
      ],
      "execution_count": 0,
      "outputs": [
        {
          "output_type": "stream",
          "text": [
            "otp\n"
          ],
          "name": "stdout"
        }
      ]
    },
    {
      "cell_type": "markdown",
      "metadata": {
        "id": "Xwh_BNob9rsg",
        "colab_type": "text"
      },
      "source": [
        "# ASCII\n",
        "- 0 to 9 :48 - 57\n",
        "- A to Z :65 - 90\n",
        "- a to z :97 - 122\n",
        "- space :32"
      ]
    },
    {
      "cell_type": "code",
      "metadata": {
        "id": "pdzF-x2s9rsh",
        "colab_type": "code",
        "colab": {},
        "outputId": "9c792efe-0e19-44b3-f299-3981a37e6f3c"
      },
      "source": [
        "ord( 'J')\n",
        "#print(int(\"J\"))"
      ],
      "execution_count": 0,
      "outputs": [
        {
          "output_type": "execute_result",
          "data": {
            "text/plain": [
              "74"
            ]
          },
          "metadata": {
            "tags": []
          },
          "execution_count": 40
        }
      ]
    },
    {
      "cell_type": "code",
      "metadata": {
        "id": "O46bh_mD9rst",
        "colab_type": "code",
        "colab": {},
        "outputId": "0e9f17b3-0e1c-4cb0-b35a-a0087a7dc4fc"
      },
      "source": [
        "def count(x):\n",
        "    s=0\n",
        "    for i in range(len(x)):\n",
        "        if ord(x[i])>=48 and ord(x[i])<=57:\n",
        "            print(x[i],end=\" \")\n",
        "            s=s+int(x[i])\n",
        "    return s\n",
        "            \n",
        "            \n",
        "count(str(input()))"
      ],
      "execution_count": 0,
      "outputs": [
        {
          "output_type": "stream",
          "text": [
            "cgvhjgfxc542156hbgfxbvcnh\n",
            "5 4 2 1 5 6 "
          ],
          "name": "stdout"
        },
        {
          "output_type": "execute_result",
          "data": {
            "text/plain": [
              "23"
            ]
          },
          "metadata": {
            "tags": []
          },
          "execution_count": 41
        }
      ]
    },
    {
      "cell_type": "code",
      "metadata": {
        "id": "yfJC4xPn9rsx",
        "colab_type": "code",
        "colab": {},
        "outputId": "2703d167-556f-46ae-adec-eea0d7c4317e"
      },
      "source": [
        "def count(x):\n",
        "    for i in range(len(x)):\n",
        "        if ord(x[i])>=97 and ord(x[i])<=122:\n",
        "            print(char(ord(x[i])-32))\n",
        "    return x\n",
        "\n",
        "count(str(input()))"
      ],
      "execution_count": 0,
      "outputs": [
        {
          "output_type": "stream",
          "text": [
            "BJHDJdefce\n"
          ],
          "name": "stdout"
        },
        {
          "output_type": "error",
          "ename": "NameError",
          "evalue": "name 'char' is not defined",
          "traceback": [
            "\u001b[1;31m---------------------------------------------------------------------------\u001b[0m",
            "\u001b[1;31mNameError\u001b[0m                                 Traceback (most recent call last)",
            "\u001b[1;32m<ipython-input-51-c2996949b585>\u001b[0m in \u001b[0;36m<module>\u001b[1;34m\u001b[0m\n\u001b[0;32m      5\u001b[0m     \u001b[1;32mreturn\u001b[0m \u001b[0mx\u001b[0m\u001b[1;33m\u001b[0m\u001b[1;33m\u001b[0m\u001b[0m\n\u001b[0;32m      6\u001b[0m \u001b[1;33m\u001b[0m\u001b[0m\n\u001b[1;32m----> 7\u001b[1;33m \u001b[0mcount\u001b[0m\u001b[1;33m(\u001b[0m\u001b[0mstr\u001b[0m\u001b[1;33m(\u001b[0m\u001b[0minput\u001b[0m\u001b[1;33m(\u001b[0m\u001b[1;33m)\u001b[0m\u001b[1;33m)\u001b[0m\u001b[1;33m)\u001b[0m\u001b[1;33m\u001b[0m\u001b[1;33m\u001b[0m\u001b[0m\n\u001b[0m",
            "\u001b[1;32m<ipython-input-51-c2996949b585>\u001b[0m in \u001b[0;36mcount\u001b[1;34m(x)\u001b[0m\n\u001b[0;32m      2\u001b[0m     \u001b[1;32mfor\u001b[0m \u001b[0mi\u001b[0m \u001b[1;32min\u001b[0m \u001b[0mrange\u001b[0m\u001b[1;33m(\u001b[0m\u001b[0mlen\u001b[0m\u001b[1;33m(\u001b[0m\u001b[0mx\u001b[0m\u001b[1;33m)\u001b[0m\u001b[1;33m)\u001b[0m\u001b[1;33m:\u001b[0m\u001b[1;33m\u001b[0m\u001b[1;33m\u001b[0m\u001b[0m\n\u001b[0;32m      3\u001b[0m         \u001b[1;32mif\u001b[0m \u001b[0mord\u001b[0m\u001b[1;33m(\u001b[0m\u001b[0mx\u001b[0m\u001b[1;33m[\u001b[0m\u001b[0mi\u001b[0m\u001b[1;33m]\u001b[0m\u001b[1;33m)\u001b[0m\u001b[1;33m>=\u001b[0m\u001b[1;36m97\u001b[0m \u001b[1;32mand\u001b[0m \u001b[0mord\u001b[0m\u001b[1;33m(\u001b[0m\u001b[0mx\u001b[0m\u001b[1;33m[\u001b[0m\u001b[0mi\u001b[0m\u001b[1;33m]\u001b[0m\u001b[1;33m)\u001b[0m\u001b[1;33m<=\u001b[0m\u001b[1;36m122\u001b[0m\u001b[1;33m:\u001b[0m\u001b[1;33m\u001b[0m\u001b[1;33m\u001b[0m\u001b[0m\n\u001b[1;32m----> 4\u001b[1;33m             \u001b[0mprint\u001b[0m\u001b[1;33m(\u001b[0m\u001b[0mchar\u001b[0m\u001b[1;33m(\u001b[0m\u001b[0mord\u001b[0m\u001b[1;33m(\u001b[0m\u001b[0mx\u001b[0m\u001b[1;33m[\u001b[0m\u001b[0mi\u001b[0m\u001b[1;33m]\u001b[0m\u001b[1;33m)\u001b[0m\u001b[1;33m-\u001b[0m\u001b[1;36m32\u001b[0m\u001b[1;33m)\u001b[0m\u001b[1;33m)\u001b[0m\u001b[1;33m\u001b[0m\u001b[1;33m\u001b[0m\u001b[0m\n\u001b[0m\u001b[0;32m      5\u001b[0m     \u001b[1;32mreturn\u001b[0m \u001b[0mx\u001b[0m\u001b[1;33m\u001b[0m\u001b[1;33m\u001b[0m\u001b[0m\n\u001b[0;32m      6\u001b[0m \u001b[1;33m\u001b[0m\u001b[0m\n",
            "\u001b[1;31mNameError\u001b[0m: name 'char' is not defined"
          ]
        }
      ]
    },
    {
      "cell_type": "code",
      "metadata": {
        "id": "xitkTbSO9rs3",
        "colab_type": "code",
        "colab": {}
      },
      "source": [
        ""
      ],
      "execution_count": 0,
      "outputs": []
    }
  ]
}