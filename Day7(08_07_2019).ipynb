{
  "nbformat": 4,
  "nbformat_minor": 0,
  "metadata": {
    "colab": {
      "name": "Day7(08-07-2019).ipynb",
      "version": "0.3.2",
      "provenance": [],
      "include_colab_link": true
    },
    "kernelspec": {
      "name": "python3",
      "display_name": "Python 3"
    }
  },
  "cells": [
    {
      "cell_type": "markdown",
      "metadata": {
        "id": "view-in-github",
        "colab_type": "text"
      },
      "source": [
        "<a href=\"https://colab.research.google.com/github/Manikanta649/python/blob/master/Day7(08_07_2019).ipynb\" target=\"_parent\"><img src=\"https://colab.research.google.com/assets/colab-badge.svg\" alt=\"Open In Colab\"/></a>"
      ]
    },
    {
      "cell_type": "code",
      "metadata": {
        "id": "ZF0cuxzBuJyu",
        "colab_type": "code",
        "outputId": "ce153458-3196-4706-eb1c-67b59a24cd56",
        "colab": {
          "base_uri": "https://localhost:8080/",
          "height": 33
        }
      },
      "source": [
        "def isPrime(n) :\n",
        "    flag = True\n",
        "    for i in range(2,n//2+1):\n",
        "        if n % i == 0:\n",
        "            flag = False\n",
        "            return flag\n",
        "    return flag\n",
        "isPrime(11)  "
      ],
      "execution_count": 0,
      "outputs": [
        {
          "output_type": "execute_result",
          "data": {
            "text/plain": [
              "True"
            ]
          },
          "metadata": {
            "tags": []
          },
          "execution_count": 2
        }
      ]
    },
    {
      "cell_type": "code",
      "metadata": {
        "id": "IZm2zMEku3zs",
        "colab_type": "code",
        "outputId": "b667f8f5-3d47-40bf-9a3e-d6988c279200",
        "colab": {
          "base_uri": "https://localhost:8080/",
          "height": 33
        }
      },
      "source": [
        "def primeCount(n):\n",
        "    cnt = 0\n",
        "    for a in range(2,n+1):\n",
        "        k = 0\n",
        "        for i in range(2,a//2+1):\n",
        "            if a % i == 0:\n",
        "                k = k + 1\n",
        "        if(k<=0):\n",
        "            cnt = cnt + 1\n",
        "    return cnt\n",
        "print(primeCount(10))"
      ],
      "execution_count": 6,
      "outputs": [
        {
          "output_type": "stream",
          "text": [
            "4\n"
          ],
          "name": "stdout"
        }
      ]
    },
    {
      "cell_type": "code",
      "metadata": {
        "id": "JLraeB_-8bbg",
        "colab_type": "code",
        "colab": {
          "base_uri": "https://localhost:8080/",
          "height": 50
        },
        "outputId": "9794d89e-57e6-42e1-af1e-ffcb491c6cfa"
      },
      "source": [
        "def factorial(n):\n",
        "  fact=1\n",
        "  for i in range(2,n+1):\n",
        "      fact *=i\n",
        "  return fact\n",
        "def digitfactsum(n):\n",
        "  sum=0\n",
        "  buffer=n\n",
        "  while n!=0:\n",
        "      r=n%10\n",
        "      sum+=factorial(r)\n",
        "      n=n//10\n",
        "  if sum==buffer:\n",
        "      return \"yes\"\n",
        "  else:\n",
        "      return \"no\"\n",
        "  return\n",
        "print(digitfactsum(145))\n",
        "print(digitfactsum(123))"
      ],
      "execution_count": 11,
      "outputs": [
        {
          "output_type": "stream",
          "text": [
            "yes\n",
            "no\n"
          ],
          "name": "stdout"
        }
      ]
    },
    {
      "cell_type": "code",
      "metadata": {
        "id": "Z30l4am79iwU",
        "colab_type": "code",
        "colab": {
          "base_uri": "https://localhost:8080/",
          "height": 84
        },
        "outputId": "ca91d1a0-be7e-4c95-8289-a81a295945b1"
      },
      "source": [
        "s1 = 'python'\n",
        "print(s1[0])\n",
        "print(s1[1])\n",
        "print(s1[5])\n",
        "print(s1[len(s1)-1])"
      ],
      "execution_count": 16,
      "outputs": [
        {
          "output_type": "stream",
          "text": [
            "p\n",
            "y\n",
            "n\n",
            "n\n"
          ],
          "name": "stdout"
        }
      ]
    },
    {
      "cell_type": "code",
      "metadata": {
        "id": "twJk5jHGaNni",
        "colab_type": "code",
        "colab": {
          "base_uri": "https://localhost:8080/",
          "height": 117
        },
        "outputId": "50bf82df-d77a-4c3e-949c-0460bbd3bbed"
      },
      "source": [
        "print(s1[-1])\n",
        "print(s1[-2])\n",
        "print(s1[0:2])\n",
        "print(s1[:2])\n",
        "print(s1[-3:])\n",
        "print(s1[2:])"
      ],
      "execution_count": 17,
      "outputs": [
        {
          "output_type": "stream",
          "text": [
            "n\n",
            "o\n",
            "py\n",
            "py\n",
            "hon\n",
            "thon\n"
          ],
          "name": "stdout"
        }
      ]
    },
    {
      "cell_type": "code",
      "metadata": {
        "id": "Hna_fSL1b72H",
        "colab_type": "code",
        "colab": {
          "base_uri": "https://localhost:8080/",
          "height": 117
        },
        "outputId": "7ef3ad1b-405f-461d-a8d6-4d553ef46806"
      },
      "source": [
        "print(s1[1:-1])\n",
        "print(s1[len(s1)//2])\n",
        "print(s1[-1::-1])\n",
        "print(s1[-1:-3:-1])\n",
        "print(s1[::2])\n",
        "print(s1[::-2])"
      ],
      "execution_count": 19,
      "outputs": [
        {
          "output_type": "stream",
          "text": [
            "ytho\n",
            "h\n",
            "nohtyp\n",
            "no\n",
            "pto\n",
            "nhy\n"
          ],
          "name": "stdout"
        }
      ]
    },
    {
      "cell_type": "code",
      "metadata": {
        "id": "5onIPeJVdcBY",
        "colab_type": "code",
        "colab": {
          "base_uri": "https://localhost:8080/",
          "height": 33
        },
        "outputId": "3335277b-3bf0-48fb-8398-9b73035b6921"
      },
      "source": [
        "def reverseString(str):\n",
        "    return str[-1::-1]\n",
        "reverseString(\"programming\")  "
      ],
      "execution_count": 20,
      "outputs": [
        {
          "output_type": "execute_result",
          "data": {
            "text/plain": [
              "'gnimmargorp'"
            ]
          },
          "metadata": {
            "tags": []
          },
          "execution_count": 20
        }
      ]
    },
    {
      "cell_type": "code",
      "metadata": {
        "id": "2JeRQSjTea0I",
        "colab_type": "code",
        "colab": {
          "base_uri": "https://localhost:8080/",
          "height": 50
        },
        "outputId": "163970d2-6814-4cdf-b8a2-816cd239f6ac"
      },
      "source": [
        "def isPalindrome(str):\n",
        "    if str == str[::-1]:\n",
        "        return True\n",
        "    else:\n",
        "        return False\n",
        "    return \n",
        "print(isPalindrome(\"Python\"))\n",
        "print(isPalindrome('ganag'))"
      ],
      "execution_count": 21,
      "outputs": [
        {
          "output_type": "stream",
          "text": [
            "False\n",
            "True\n"
          ],
          "name": "stdout"
        }
      ]
    },
    {
      "cell_type": "code",
      "metadata": {
        "id": "SmOgrwW_1xnh",
        "colab_type": "code",
        "colab": {}
      },
      "source": [
        ""
      ],
      "execution_count": 0,
      "outputs": []
    }
  ]
}