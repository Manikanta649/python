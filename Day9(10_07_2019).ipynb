{
  "nbformat": 4,
  "nbformat_minor": 0,
  "metadata": {
    "colab": {
      "name": "Day9(10-07-2019).ipynb",
      "version": "0.3.2",
      "provenance": [],
      "collapsed_sections": [],
      "include_colab_link": true
    },
    "kernelspec": {
      "name": "python3",
      "display_name": "Python 3"
    }
  },
  "cells": [
    {
      "cell_type": "markdown",
      "metadata": {
        "id": "view-in-github",
        "colab_type": "text"
      },
      "source": [
        "<a href=\"https://colab.research.google.com/github/Manikanta649/python/blob/master/Day9(10_07_2019).ipynb\" target=\"_parent\"><img src=\"https://colab.research.google.com/assets/colab-badge.svg\" alt=\"Open In Colab\"/></a>"
      ]
    },
    {
      "cell_type": "code",
      "metadata": {
        "id": "DOUq9V6b94Ie",
        "colab_type": "code",
        "outputId": "ee24b2a3-05a9-4f62-cd8a-2206c964ec84",
        "colab": {
          "base_uri": "https://localhost:8080/",
          "height": 33
        }
      },
      "source": [
        "d1 = {\"Name\":\"Manikanta\",\"EmailId\":\"rockstarmani32@gmail.com\",\"Address\":\"Hyderabad\"}\n",
        "print(d1)\n"
      ],
      "execution_count": 0,
      "outputs": [
        {
          "output_type": "stream",
          "text": [
            "{'Name': 'Manikanta', 'EmailId': 'rockstarmani32@gmail.com', 'Address': 'Hyderabad'}\n"
          ],
          "name": "stdout"
        }
      ]
    },
    {
      "cell_type": "code",
      "metadata": {
        "id": "BwKbLEUHAMo1",
        "colab_type": "code",
        "outputId": "18ae3e8d-f605-4693-a716-067ed9e99c67",
        "colab": {
          "base_uri": "https://localhost:8080/",
          "height": 33
        }
      },
      "source": [
        "d1[\"Name\"]"
      ],
      "execution_count": 0,
      "outputs": [
        {
          "output_type": "execute_result",
          "data": {
            "text/plain": [
              "'Manikanta'"
            ]
          },
          "metadata": {
            "tags": []
          },
          "execution_count": 3
        }
      ]
    },
    {
      "cell_type": "code",
      "metadata": {
        "id": "JoCaXM9uBBzK",
        "colab_type": "code",
        "outputId": "2e849719-787d-4c2e-ea0f-5216431f44ac",
        "colab": {
          "base_uri": "https://localhost:8080/",
          "height": 33
        }
      },
      "source": [
        "d1['EmailId']"
      ],
      "execution_count": 0,
      "outputs": [
        {
          "output_type": "execute_result",
          "data": {
            "text/plain": [
              "'rockstarmani32@gmail.com'"
            ]
          },
          "metadata": {
            "tags": []
          },
          "execution_count": 6
        }
      ]
    },
    {
      "cell_type": "code",
      "metadata": {
        "id": "v6pHTpqVBNxK",
        "colab_type": "code",
        "colab": {}
      },
      "source": [
        "del d1['EmailId']"
      ],
      "execution_count": 0,
      "outputs": []
    },
    {
      "cell_type": "code",
      "metadata": {
        "id": "mYwQtFDqCOPh",
        "colab_type": "code",
        "outputId": "12a37876-6801-4cf4-d81b-cccbbec566c4",
        "colab": {
          "base_uri": "https://localhost:8080/",
          "height": 33
        }
      },
      "source": [
        "d1"
      ],
      "execution_count": 0,
      "outputs": [
        {
          "output_type": "execute_result",
          "data": {
            "text/plain": [
              "{'Address': 'Hyderabad', 'Name': 'Manikanta'}"
            ]
          },
          "metadata": {
            "tags": []
          },
          "execution_count": 9
        }
      ]
    },
    {
      "cell_type": "code",
      "metadata": {
        "id": "hhsON9QZCZva",
        "colab_type": "code",
        "outputId": "04a6cde5-09c5-432d-f1b7-ee3114d80c56",
        "colab": {
          "base_uri": "https://localhost:8080/",
          "height": 33
        }
      },
      "source": [
        "d1.keys()"
      ],
      "execution_count": 0,
      "outputs": [
        {
          "output_type": "execute_result",
          "data": {
            "text/plain": [
              "dict_keys(['Name', 'EmailId', 'Address'])"
            ]
          },
          "metadata": {
            "tags": []
          },
          "execution_count": 19
        }
      ]
    },
    {
      "cell_type": "code",
      "metadata": {
        "id": "9U3VLpPHFIpz",
        "colab_type": "code",
        "outputId": "c2239342-01ec-4129-a9e6-79939b8dc5c4",
        "colab": {
          "base_uri": "https://localhost:8080/",
          "height": 33
        }
      },
      "source": [
        "t1 = (1,2,3,4,5,6)\n",
        "t1\n",
        "type(t1)"
      ],
      "execution_count": 0,
      "outputs": [
        {
          "output_type": "execute_result",
          "data": {
            "text/plain": [
              "tuple"
            ]
          },
          "metadata": {
            "tags": []
          },
          "execution_count": 20
        }
      ]
    },
    {
      "cell_type": "code",
      "metadata": {
        "id": "CfGJRE1IFl7-",
        "colab_type": "code",
        "outputId": "66b8b3ee-96fc-4917-e90e-5c711a2bd51d",
        "colab": {
          "base_uri": "https://localhost:8080/",
          "height": 33
        }
      },
      "source": [
        "d1.values()"
      ],
      "execution_count": 0,
      "outputs": [
        {
          "output_type": "execute_result",
          "data": {
            "text/plain": [
              "dict_values(['Manikanta', 'rockstarmani32@gmail.com', 'Hyderabad'])"
            ]
          },
          "metadata": {
            "tags": []
          },
          "execution_count": 21
        }
      ]
    },
    {
      "cell_type": "code",
      "metadata": {
        "id": "O-XYRVpiF2Va",
        "colab_type": "code",
        "outputId": "01c9a168-f76f-4f56-e270-a2de01be3855",
        "colab": {
          "base_uri": "https://localhost:8080/",
          "height": 33
        }
      },
      "source": [
        "d1.items()"
      ],
      "execution_count": 0,
      "outputs": [
        {
          "output_type": "execute_result",
          "data": {
            "text/plain": [
              "dict_items([('Name', 'Manikanta'), ('EmailId', 'rockstarmani32@gmail.com'), ('Address', 'Hyderabad')])"
            ]
          },
          "metadata": {
            "tags": []
          },
          "execution_count": 23
        }
      ]
    },
    {
      "cell_type": "code",
      "metadata": {
        "id": "-fJ1njQyF9La",
        "colab_type": "code",
        "outputId": "d5790e58-629b-42bd-ca69-f40ae827de83",
        "colab": {
          "base_uri": "https://localhost:8080/",
          "height": 67
        }
      },
      "source": [
        "contacts = {}\n",
        "def addContact(name,phone):\n",
        "    if name not in contacts:\n",
        "        contacts[name] = phone\n",
        "        print(\"Contact is details are added\")\n",
        "    else:\n",
        "        print(\"Contact details are already exists\")\n",
        "    return\n",
        "addContact('Manikanta','9912507593')\n",
        "addContact('Amma','9848613566')\n",
        "addContact('Nanna','9848338477')"
      ],
      "execution_count": 0,
      "outputs": [
        {
          "output_type": "stream",
          "text": [
            "Contact is details are added\n",
            "Contact is details are added\n",
            "Contact is details are added\n"
          ],
          "name": "stdout"
        }
      ]
    },
    {
      "cell_type": "code",
      "metadata": {
        "id": "RXx_Xbh2Jp5L",
        "colab_type": "code",
        "outputId": "7116f9d2-634d-4047-ba1b-906822cb5aaf",
        "colab": {
          "base_uri": "https://localhost:8080/",
          "height": 67
        }
      },
      "source": [
        "def searchContact(name):\n",
        "    if name in contacts:\n",
        "        print(name, \" : \" , contacts[name])\n",
        "    else:\n",
        "        print(\"%s does not exists\" % name)\n",
        "    return\n",
        "searchContact('Manikanta')\n",
        "searchContact('Amma')\n",
        "searchContact('Akka')"
      ],
      "execution_count": 0,
      "outputs": [
        {
          "output_type": "stream",
          "text": [
            "Manikanta  :  9912507593\n",
            "Amma  :  9848613566\n",
            "Akka does not exists\n"
          ],
          "name": "stdout"
        }
      ]
    },
    {
      "cell_type": "code",
      "metadata": {
        "id": "akcEPf9GLoKi",
        "colab_type": "code",
        "outputId": "1d98d39c-f45b-4042-fc94-c762f7e01550",
        "colab": {
          "base_uri": "https://localhost:8080/",
          "height": 33
        }
      },
      "source": [
        "def importContact(newContacts):\n",
        "    contacts.update(newContacts)\n",
        "    print(len(newContacts.keys()),\"Contacts added successfully\")\n",
        "    return\n",
        "newContacts = {\"Manikanta\":9912507593,'Amma':9848613566}  \n",
        "importContact(newContacts) "
      ],
      "execution_count": 0,
      "outputs": [
        {
          "output_type": "stream",
          "text": [
            "2 Contacts added successfully\n"
          ],
          "name": "stdout"
        }
      ]
    },
    {
      "cell_type": "code",
      "metadata": {
        "id": "KeLnaUtSPUye",
        "colab_type": "code",
        "outputId": "9e64276f-9d31-4a26-b46f-3bd3f2afaadc",
        "colab": {
          "base_uri": "https://localhost:8080/",
          "height": 33
        }
      },
      "source": [
        "def deleteContacts(name):\n",
        "    if name in contacts:\n",
        "        del contacts[name]\n",
        "        print(name,\" deleted successfully\")\n",
        "    else:\n",
        "        print(name,\" not exists\")\n",
        "    return  \n",
        "deleteContacts('Akka')"
      ],
      "execution_count": 0,
      "outputs": [
        {
          "output_type": "stream",
          "text": [
            "Akka  not exists\n"
          ],
          "name": "stdout"
        }
      ]
    },
    {
      "cell_type": "code",
      "metadata": {
        "id": "NK0xU2GLREoE",
        "colab_type": "code",
        "outputId": "2536afc2-8020-47df-ef57-c9b21ffe4e7f",
        "colab": {
          "base_uri": "https://localhost:8080/",
          "height": 50
        }
      },
      "source": [
        "def deleteContacts(name,phone):\n",
        "    if name in contacts:\n",
        "        contacts[name] = phone\n",
        "        print(name,\"Updated successfully\")\n",
        "    else:\n",
        "        print(name,\"Not exists\")\n",
        "    return  \n",
        "deleteContacts('Amma',9848613566)\n",
        "deleteContacts('Akka',9382381866)"
      ],
      "execution_count": 0,
      "outputs": [
        {
          "output_type": "stream",
          "text": [
            "Amma Updated successfully\n",
            "Akka Not exists\n"
          ],
          "name": "stdout"
        }
      ]
    },
    {
      "cell_type": "code",
      "metadata": {
        "id": "idAiAURpos8M",
        "colab_type": "code",
        "outputId": "c00184f2-4b51-415e-f866-29300f4d8671",
        "colab": {
          "base_uri": "https://localhost:8080/",
          "height": 50
        }
      },
      "source": [
        "s1 = 'Gitam'\n",
        "print(s1.upper())\n",
        "print(s1.lower())"
      ],
      "execution_count": 0,
      "outputs": [
        {
          "output_type": "stream",
          "text": [
            "GITAM\n",
            "gitam\n"
          ],
          "name": "stdout"
        }
      ]
    },
    {
      "cell_type": "code",
      "metadata": {
        "id": "wKwiPlZlpD8g",
        "colab_type": "code",
        "outputId": "15c00f5a-0279-42b8-af64-11f0cc3a5fe8",
        "colab": {
          "base_uri": "https://localhost:8080/",
          "height": 50
        }
      },
      "source": [
        "s1 = 'GITAM'\n",
        "print(s1.islower())\n",
        "print(s1.isupper())"
      ],
      "execution_count": 0,
      "outputs": [
        {
          "output_type": "stream",
          "text": [
            "False\n",
            "True\n"
          ],
          "name": "stdout"
        }
      ]
    },
    {
      "cell_type": "code",
      "metadata": {
        "id": "jDN39gmXp2NI",
        "colab_type": "code",
        "outputId": "7628065f-9e59-4f10-ad4f-789665f03a9e",
        "colab": {
          "base_uri": "https://localhost:8080/",
          "height": 50
        }
      },
      "source": [
        "s2 = \"Python Programming\"\n",
        "s3 = \"python programming\"\n",
        "print(s2.istitle())\n",
        "print(s3.istitle())"
      ],
      "execution_count": 0,
      "outputs": [
        {
          "output_type": "stream",
          "text": [
            "True\n",
            "False\n"
          ],
          "name": "stdout"
        }
      ]
    },
    {
      "cell_type": "code",
      "metadata": {
        "id": "--pUgX4xrQ1n",
        "colab_type": "code",
        "outputId": "e7b967f9-0114-4857-c67a-54da3dacc975",
        "colab": {
          "base_uri": "https://localhost:8080/",
          "height": 50
        }
      },
      "source": [
        "s2 = \"Application1889\"\n",
        "s3 = 'PythonProgramming'\n",
        "print(s2.isalpha())\n",
        "print(s3.isalpha())"
      ],
      "execution_count": 0,
      "outputs": [
        {
          "output_type": "stream",
          "text": [
            "False\n",
            "True\n"
          ],
          "name": "stdout"
        }
      ]
    },
    {
      "cell_type": "code",
      "metadata": {
        "id": "qU9P2d2yrogl",
        "colab_type": "code",
        "outputId": "5f20dc7e-a501-4984-f7a9-312f952b87f1",
        "colab": {
          "base_uri": "https://localhost:8080/",
          "height": 50
        }
      },
      "source": [
        "s1 = \"1234\"\n",
        "s2 = \"Application1234\"\n",
        "print(s1.isnumeric())\n",
        "print(s2.isnumeric())"
      ],
      "execution_count": 0,
      "outputs": [
        {
          "output_type": "stream",
          "text": [
            "True\n",
            "False\n"
          ],
          "name": "stdout"
        }
      ]
    },
    {
      "cell_type": "code",
      "metadata": {
        "id": "UeQXxpMjtN3s",
        "colab_type": "code",
        "outputId": "a2484c2b-4664-4eb8-ddd3-3ea50599eca0",
        "colab": {
          "base_uri": "https://localhost:8080/",
          "height": 50
        }
      },
      "source": [
        "s1 = \" \"\n",
        "s2 = \"Py th on\"\n",
        "print(s1.isspace())\n",
        "print(s2.isspace())"
      ],
      "execution_count": 0,
      "outputs": [
        {
          "output_type": "stream",
          "text": [
            "True\n",
            "False\n"
          ],
          "name": "stdout"
        }
      ]
    },
    {
      "cell_type": "code",
      "metadata": {
        "id": "E6nOmmtRtfsm",
        "colab_type": "code",
        "outputId": "748a0fa3-e664-4372-8e99-3c2f755ec749",
        "colab": {
          "base_uri": "https://localhost:8080/",
          "height": 33
        }
      },
      "source": [
        "s1 = 'Python'\n",
        "print(\" \".join(s1))"
      ],
      "execution_count": 0,
      "outputs": [
        {
          "output_type": "stream",
          "text": [
            "P y t h o n\n"
          ],
          "name": "stdout"
        }
      ]
    },
    {
      "cell_type": "code",
      "metadata": {
        "id": "ZJufZGrju3cB",
        "colab_type": "code",
        "outputId": "82466cd1-518b-4872-d952-308158f04bb5",
        "colab": {
          "base_uri": "https://localhost:8080/",
          "height": 33
        }
      },
      "source": [
        "s2 = \"Python Programming Easy to learn\"\n",
        "print(\",\".join(s2))"
      ],
      "execution_count": 0,
      "outputs": [
        {
          "output_type": "stream",
          "text": [
            "P,y,t,h,o,n, ,P,r,o,g,r,a,m,m,i,n,g, ,E,a,s,y, ,t,o, ,l,e,a,r,n\n"
          ],
          "name": "stdout"
        }
      ]
    },
    {
      "cell_type": "code",
      "metadata": {
        "id": "dLR-zgRxvF6T",
        "colab_type": "code",
        "outputId": "cb3047f0-1c40-4107-d037-086df2015003",
        "colab": {
          "base_uri": "https://localhost:8080/",
          "height": 33
        }
      },
      "source": [
        "li = ['Python','Programming','Learn']\n",
        "print(\",\".join(li))"
      ],
      "execution_count": 0,
      "outputs": [
        {
          "output_type": "stream",
          "text": [
            "Python,Programming,Learn\n"
          ],
          "name": "stdout"
        }
      ]
    },
    {
      "cell_type": "code",
      "metadata": {
        "id": "jS2N54x5vilk",
        "colab_type": "code",
        "outputId": "9907b865-9791-420e-a4d6-8eeecaba4875",
        "colab": {
          "base_uri": "https://localhost:8080/",
          "height": 33
        }
      },
      "source": [
        "s2 = \"Python Programming Easy to learn\"\n",
        "print(s2.split())"
      ],
      "execution_count": 0,
      "outputs": [
        {
          "output_type": "stream",
          "text": [
            "['Python', 'Programming', 'Easy', 'to', 'learn']\n"
          ],
          "name": "stdout"
        }
      ]
    },
    {
      "cell_type": "code",
      "metadata": {
        "id": "aQXtDiA5wDZv",
        "colab_type": "code",
        "outputId": "876baebc-2ef1-451a-d303-bbf8542743c2",
        "colab": {
          "base_uri": "https://localhost:8080/",
          "height": 33
        }
      },
      "source": [
        "s2 = \"Python Programming Easy to learn\"\n",
        "print(s2.split('a'))"
      ],
      "execution_count": 0,
      "outputs": [
        {
          "output_type": "stream",
          "text": [
            "['Python Progr', 'mming E', 'sy to le', 'rn']\n"
          ],
          "name": "stdout"
        }
      ]
    },
    {
      "cell_type": "code",
      "metadata": {
        "id": "43QRFciOxZcZ",
        "colab_type": "code",
        "outputId": "a3a986db-7e30-4cae-9294-d2df779fc786",
        "colab": {
          "base_uri": "https://localhost:8080/",
          "height": 50
        }
      },
      "source": [
        "s2 = \"Python Programming Easy to learn\"\n",
        "li = s2.split()\n",
        "print(li)\n",
        "print(len(li))"
      ],
      "execution_count": 0,
      "outputs": [
        {
          "output_type": "stream",
          "text": [
            "['Python', 'Programming', 'Easy', 'to', 'learn']\n",
            "5\n"
          ],
          "name": "stdout"
        }
      ]
    },
    {
      "cell_type": "code",
      "metadata": {
        "id": "xIOnYK9Cxu7M",
        "colab_type": "code",
        "outputId": "31f1a445-ee25-4c26-e94d-02fd5e338682",
        "colab": {
          "base_uri": "https://localhost:8080/",
          "height": 33
        }
      },
      "source": [
        "s2 = \"Python Programming Easy to learn\"\n",
        "li = list(s2)\n",
        "print(li)"
      ],
      "execution_count": 0,
      "outputs": [
        {
          "output_type": "stream",
          "text": [
            "['P', 'y', 't', 'h', 'o', 'n', ' ', 'P', 'r', 'o', 'g', 'r', 'a', 'm', 'm', 'i', 'n', 'g', ' ', 'E', 'a', 's', 'y', ' ', 't', 'o', ' ', 'l', 'e', 'a', 'r', 'n']\n"
          ],
          "name": "stdout"
        }
      ]
    },
    {
      "cell_type": "code",
      "metadata": {
        "id": "LJ5fvl5Vx4f2",
        "colab_type": "code",
        "outputId": "e04bd848-d0cb-4460-fe28-8a4eb9f4cb59",
        "colab": {
          "base_uri": "https://localhost:8080/",
          "height": 33
        }
      },
      "source": [
        "s2 = \"Python Programming Easy to learn\"\n",
        "print(s2.replace(\"gra\",\"Application\"))"
      ],
      "execution_count": 0,
      "outputs": [
        {
          "output_type": "stream",
          "text": [
            "Python ProApplicationmming Easy to learn\n"
          ],
          "name": "stdout"
        }
      ]
    },
    {
      "cell_type": "code",
      "metadata": {
        "id": "GR_9Ctpsyh5q",
        "colab_type": "code",
        "colab": {}
      },
      "source": [
        ""
      ],
      "execution_count": 0,
      "outputs": []
    }
  ]
}