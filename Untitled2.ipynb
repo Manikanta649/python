{
  "nbformat": 4,
  "nbformat_minor": 0,
  "metadata": {
    "colab": {
      "name": "Untitled2.ipynb",
      "version": "0.3.2",
      "provenance": [],
      "include_colab_link": true
    },
    "kernelspec": {
      "name": "python3",
      "display_name": "Python 3"
    }
  },
  "cells": [
    {
      "cell_type": "markdown",
      "metadata": {
        "id": "view-in-github",
        "colab_type": "text"
      },
      "source": [
        "<a href=\"https://colab.research.google.com/github/Manikanta649/python/blob/master/Untitled2.ipynb\" target=\"_parent\"><img src=\"https://colab.research.google.com/assets/colab-badge.svg\" alt=\"Open In Colab\"/></a>"
      ]
    },
    {
      "cell_type": "code",
      "metadata": {
        "id": "bEISug1cX-kL",
        "colab_type": "code",
        "colab": {
          "base_uri": "https://localhost:8080/",
          "height": 33
        },
        "outputId": "39f17ea6-dc31-465c-f9bf-da3db09e07f4"
      },
      "source": [
        "import math\n",
        "def Nth_of_GP(a, r, N):\n",
        "    return(a * (int)(math.pow(r, N - 1)) )\n",
        "a = 2\n",
        "r = 3\n",
        "N = 5\n",
        "print(\"The\", N, \"th term of the series is :\",\n",
        "                            Nth_of_GP(a,r,N))"
      ],
      "execution_count": 9,
      "outputs": [
        {
          "output_type": "stream",
          "text": [
            "The 5 th term of the series is : 162\n"
          ],
          "name": "stdout"
        }
      ]
    },
    {
      "cell_type": "code",
      "metadata": {
        "id": "5LCMPyVbhAuB",
        "colab_type": "code",
        "colab": {
          "base_uri": "https://localhost:8080/",
          "height": 100
        },
        "outputId": "148c152a-0d7d-4c7d-8b26-ed9174586160"
      },
      "source": [
        "def printPattern(n) : \n",
        " \n",
        "   j, k = 0, 0\n",
        " \n",
        "   # loop to decide the row number  \n",
        "   for i in range(1, n + 1) : \n",
        " \n",
        "       # if row number is odd  \n",
        "       if i % 2 != 0 : \n",
        " \n",
        "           # print numbers with \n",
        "           # the '*' sign in  \n",
        "           # increasing order  \n",
        "           for j in range(k + 1, k + i) : \n",
        " \n",
        "               print(str(j) + \"*\",  \n",
        "                         end = \"\") \n",
        " \n",
        "           j = k + i \n",
        "           print(j) \n",
        "           j += 1\n",
        " \n",
        "           # update value of 'k'  \n",
        "           k = j \n",
        " \n",
        "       # if row number is even \n",
        "       else : \n",
        " \n",
        "           # update value of 'k'  \n",
        "           k = k + i - 1\n",
        " \n",
        "           # print numbers with the  \n",
        "           # '*' in decreasing order  \n",
        "           for j in range(k, k - i + 1, -1) : \n",
        "               print(str(j) + \"*\", end = \"\") \n",
        " \n",
        "           j = k - i + 1\n",
        "           print(j) \n",
        " \n",
        "# Driver Code \n",
        "if __name__ == \"__main__\" : \n",
        "   n = 5\n",
        " \n",
        "   # function calling  \n",
        "   printPattern(n) \n",
        "             \n",
        "# This code is contributed  \n",
        "# by ANKITRAI1 "
      ],
      "execution_count": 25,
      "outputs": [
        {
          "output_type": "stream",
          "text": [
            "1\n",
            "3*2\n",
            "4*5*6\n",
            "10*9*8*7\n",
            "11*12*13*14*15\n"
          ],
          "name": "stdout"
        }
      ]
    },
    {
      "cell_type": "code",
      "metadata": {
        "id": "utdEWwzSGzHH",
        "colab_type": "code",
        "colab": {
          "base_uri": "https://localhost:8080/",
          "height": 50
        },
        "outputId": "1ab317cf-1177-4428-aeaf-0a2260f69c83"
      },
      "source": [
        "def Q1(x):\n",
        "    while x-2!=0:\n",
        "        a=0\n",
        "        b=1\n",
        "        c=0\n",
        "        for i in range(x-2):\n",
        "            c=a+b\n",
        "            a=b\n",
        "            b=c\n",
        "        print(c,end=\" \")\n",
        "        x-=1\n",
        "    print('1 0')\n",
        "    return\n",
        "Q1(int(input(\"enter number\")))"
      ],
      "execution_count": 16,
      "outputs": [
        {
          "output_type": "stream",
          "text": [
            "enter number5\n",
            "3 2 1 1 0\n"
          ],
          "name": "stdout"
        }
      ]
    },
    {
      "cell_type": "code",
      "metadata": {
        "id": "EPeR3U0pNiTt",
        "colab_type": "code",
        "colab": {
          "base_uri": "https://localhost:8080/",
          "height": 134
        },
        "outputId": "325cf815-b53b-43d9-aaeb-3e01dd3e0abc"
      },
      "source": [
        "def Q2(n):\n",
        "    a=[]\n",
        "    s=0\n",
        "    for i in range(n):\n",
        "        a.append(int(input()))\n",
        "    for i in range(n):\n",
        "        c=0\n",
        "        for j in range(n):\n",
        "            if i!=j:\n",
        "                if a[i]==a[j]:\n",
        "                    c+=1\n",
        "        if c==0:\n",
        "            s=s+a[i]\n",
        "    return s\n",
        "Q2(int(input(\"no of values\")))"
      ],
      "execution_count": 17,
      "outputs": [
        {
          "output_type": "stream",
          "text": [
            "no of values5\n",
            "44\n",
            "66\n",
            "44\n",
            "99\n",
            "66\n"
          ],
          "name": "stdout"
        },
        {
          "output_type": "execute_result",
          "data": {
            "text/plain": [
              "99"
            ]
          },
          "metadata": {
            "tags": []
          },
          "execution_count": 17
        }
      ]
    },
    {
      "cell_type": "code",
      "metadata": {
        "id": "fIPteVjIOPO8",
        "colab_type": "code",
        "colab": {
          "base_uri": "https://localhost:8080/",
          "height": 151
        },
        "outputId": "4f0afb85-75de-49bf-ee01-5bcc95dfd4bf"
      },
      "source": [
        "def Q3(a,b):\n",
        "    if len(a)<=len(b):\n",
        "        n=len(a)\n",
        "        k=len(b)\n",
        "    else:\n",
        "        n=len(b)\n",
        "        k=len(a)\n",
        "    for i in range(n):\n",
        "        print(a[i],b[i])\n",
        "    for j in range(n,k):\n",
        "        if(len(a)<=len(b)):\n",
        "            print(b[j],'*')\n",
        "        else:\n",
        "            print(a[j],'*')\n",
        "    return\n",
        "x=str(input(\"enter str:\"))\n",
        "x=x.split()\n",
        "Q3(x[0],x[1])\n"
      ],
      "execution_count": 18,
      "outputs": [
        {
          "output_type": "stream",
          "text": [
            "enter str:uihvew goihfhi fhie\n",
            "u g\n",
            "i o\n",
            "h i\n",
            "v h\n",
            "e f\n",
            "w h\n",
            "i *\n"
          ],
          "name": "stdout"
        }
      ]
    },
    {
      "cell_type": "code",
      "metadata": {
        "id": "ekLbYdfpO7iD",
        "colab_type": "code",
        "colab": {
          "base_uri": "https://localhost:8080/",
          "height": 50
        },
        "outputId": "c8539fc5-c150-4801-cdc6-eaa8fdcd9ebf"
      },
      "source": [
        "def Q4(a,b):\n",
        "    if len(a)>=len(b):\n",
        "        print(a.upper())\n",
        "    else:\n",
        "        print(b.upper())\n",
        "    return\n",
        "x=str(input(\"enter str:\"))\n",
        "x=x.split()\n",
        "Q4(x[0],x[1])"
      ],
      "execution_count": 20,
      "outputs": [
        {
          "output_type": "stream",
          "text": [
            "enter str:mani ghi\n",
            "MANI\n"
          ],
          "name": "stdout"
        }
      ]
    },
    {
      "cell_type": "code",
      "metadata": {
        "id": "hbYYTEr3PcMH",
        "colab_type": "code",
        "colab": {
          "base_uri": "https://localhost:8080/",
          "height": 50
        },
        "outputId": "7ddccd02-7c25-42e8-899d-d90b42063bec"
      },
      "source": [
        "def Q5_1(a):\n",
        "    a=a.split()\n",
        "    for i in range (len(a)):\n",
        "        if a[i].istitle()==True:\n",
        "            print(a[i].upper(),end= \" \")\n",
        "    return\n",
        "x=str(input(\"enter str:\"))\n",
        "Q5_1(x)"
      ],
      "execution_count": 21,
      "outputs": [
        {
          "output_type": "stream",
          "text": [
            "enter str:Manikanta inapakurthi\n",
            "MANIKANTA "
          ],
          "name": "stdout"
        }
      ]
    },
    {
      "cell_type": "code",
      "metadata": {
        "id": "rMfzXf1HP8hn",
        "colab_type": "code",
        "colab": {
          "base_uri": "https://localhost:8080/",
          "height": 201
        },
        "outputId": "4574284a-098b-41ce-9c8f-1181cc57b339"
      },
      "source": [
        "def Q7(n):\n",
        "    for i in range(len(n)):\n",
        "        n[i]=int(n[i])\n",
        "    for i in range(len(n)):\n",
        "        for j in range(n[i]):\n",
        "            print(\"*\",end=\"\")\n",
        "        print(\"\")\n",
        "    return\n",
        "x=input(\"enter num\")\n",
        "Q7(list(x))"
      ],
      "execution_count": 22,
      "outputs": [
        {
          "output_type": "stream",
          "text": [
            "enter num8688202197\n",
            "********\n",
            "******\n",
            "********\n",
            "********\n",
            "**\n",
            "\n",
            "**\n",
            "*\n",
            "*********\n",
            "*******\n"
          ],
          "name": "stdout"
        }
      ]
    }
  ]
}