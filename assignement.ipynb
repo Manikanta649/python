{
  "nbformat": 4,
  "nbformat_minor": 0,
  "metadata": {
    "colab": {
      "name": "assignement",
      "version": "0.3.2",
      "provenance": [],
      "include_colab_link": true
    },
    "kernelspec": {
      "name": "python3",
      "display_name": "Python 3"
    }
  },
  "cells": [
    {
      "cell_type": "markdown",
      "metadata": {
        "id": "view-in-github",
        "colab_type": "text"
      },
      "source": [
        "<a href=\"https://colab.research.google.com/github/Manikanta649/python/blob/master/assignement.ipynb\" target=\"_parent\"><img src=\"https://colab.research.google.com/assets/colab-badge.svg\" alt=\"Open In Colab\"/></a>"
      ]
    },
    {
      "cell_type": "code",
      "metadata": {
        "id": "GGl2u8cNqNC3",
        "colab_type": "code",
        "colab": {}
      },
      "source": [
        "def large(n) :\n",
        "  l = 0\n",
        "  while n!= 0 :\n",
        "    r = n % 10\n",
        "    if l < r :\n",
        "      l = r\n",
        "    n = n // 10\n",
        "  return l\n",
        "n = int(input(\"Enter a number - \"))\n",
        "l = large(n)\n",
        "print(\"Largest digit is \", l)"
      ],
      "execution_count": 0,
      "outputs": []
    },
    {
      "cell_type": "code",
      "metadata": {
        "id": "95Gpsul8qNFW",
        "colab_type": "code",
        "colab": {}
      },
      "source": [
        "def count(a,b) :\n",
        "  cnt = 0\n",
        "  for i in range(a,b+1) :\n",
        "    x = i\n",
        "    rev = 0\n",
        "    while i!=0 :\n",
        "      r = i % 10\n",
        "      rev = rev * 10 + r\n",
        "      i = i // 10\n",
        "    if rev == x :\n",
        "      cnt = cnt + 1\n",
        "  return cnt\n",
        "\n",
        "C=count(1,10)\n",
        "print(\"Count = \",C)\n",
        "C=count(11,100)\n",
        "print(\"Count = \",C)"
      ],
      "execution_count": 0,
      "outputs": []
    },
    {
      "cell_type": "code",
      "metadata": {
        "id": "kt6E0rbuqNH5",
        "colab_type": "code",
        "colab": {}
      },
      "source": [
        ""
      ],
      "execution_count": 0,
      "outputs": []
    },
    {
      "cell_type": "code",
      "metadata": {
        "id": "IS0_K-UpqNKf",
        "colab_type": "code",
        "colab": {}
      },
      "source": [
        ""
      ],
      "execution_count": 0,
      "outputs": []
    },
    {
      "cell_type": "code",
      "metadata": {
        "id": "p8t9KaonqNMm",
        "colab_type": "code",
        "colab": {}
      },
      "source": [
        ""
      ],
      "execution_count": 0,
      "outputs": []
    },
    {
      "cell_type": "code",
      "metadata": {
        "id": "jc-8Cv4zqNPK",
        "colab_type": "code",
        "colab": {}
      },
      "source": [
        ""
      ],
      "execution_count": 0,
      "outputs": []
    }
  ]
}